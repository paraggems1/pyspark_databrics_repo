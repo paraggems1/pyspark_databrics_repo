{
 "cells": [
  {
   "cell_type": "code",
   "execution_count": 0,
   "metadata": {
    "application/vnd.databricks.v1+cell": {
     "cellMetadata": {
      "byteLimit": 2048000,
      "rowLimit": 10000
     },
     "inputWidgets": {},
     "nuid": "d8f2ac01-6689-418d-888f-5c0ea63f688e",
     "showTitle": false,
     "title": ""
    }
   },
   "outputs": [
    {
     "data": {
      "text/html": [
       "\n",
       "            <div>\n",
       "                <p><b>SparkSession - hive</b></p>\n",
       "                \n",
       "        <div>\n",
       "            <p><b>SparkContext</b></p>\n",
       "\n",
       "            <p><a href=\"/?o=2603575592592943#setting/sparkui/0812-022446-3v9dqmz9/driver-8408504580502363947\">Spark UI</a></p>\n",
       "\n",
       "            <dl>\n",
       "              <dt>Version</dt>\n",
       "                <dd><code>v3.3.2</code></dd>\n",
       "              <dt>Master</dt>\n",
       "                <dd><code>local[8]</code></dd>\n",
       "              <dt>AppName</dt>\n",
       "                <dd><code>Databricks Shell</code></dd>\n",
       "            </dl>\n",
       "        </div>\n",
       "        \n",
       "            </div>\n",
       "        "
      ]
     },
     "metadata": {
      "application/vnd.databricks.v1+output": {
       "addedWidgets": {},
       "arguments": {},
       "data": "\n            <div>\n                <p><b>SparkSession - hive</b></p>\n                \n        <div>\n            <p><b>SparkContext</b></p>\n\n            <p><a href=\"/?o=2603575592592943#setting/sparkui/0812-022446-3v9dqmz9/driver-8408504580502363947\">Spark UI</a></p>\n\n            <dl>\n              <dt>Version</dt>\n                <dd><code>v3.3.2</code></dd>\n              <dt>Master</dt>\n                <dd><code>local[8]</code></dd>\n              <dt>AppName</dt>\n                <dd><code>Databricks Shell</code></dd>\n            </dl>\n        </div>\n        \n            </div>\n        ",
       "datasetInfos": [],
       "metadata": {},
       "removedWidgets": [],
       "textData": null,
       "type": "htmlSandbox"
      }
     },
     "output_type": "display_data"
    }
   ],
   "source": [
    "spark"
   ]
  },
  {
   "cell_type": "code",
   "execution_count": 0,
   "metadata": {
    "application/vnd.databricks.v1+cell": {
     "cellMetadata": {
      "byteLimit": 2048000,
      "rowLimit": 10000
     },
     "inputWidgets": {},
     "nuid": "662e39e2-7237-4325-b815-042515e72715",
     "showTitle": false,
     "title": ""
    }
   },
   "outputs": [],
   "source": [
    "data=[(10 ,'Anil',50000, 18),\n",
    "(11 ,'Vikas',75000,  16),\n",
    "(12 ,'Nisha',40000,  18),\n",
    "(13 ,'Nidhi',60000,  17),\n",
    "(14 ,'Priya',80000,  18),\n",
    "(15 ,'Mohit',45000,  18),\n",
    "(16 ,'Rajesh',90000, 10),\n",
    "(17 ,'Raman',55000, 16),\n",
    "(18 ,'Sam',65000,   17),\n",
    "(15 ,'Mohit',45000,  18),\n",
    "(13 ,'Nidhi',60000,  17),      \n",
    "(14 ,'Priya',90000,  18),  \n",
    "(18 ,'Sam',65000,   17)\n",
    "     ]\n",
    "\n",
    "schema = ['id','name','salary','mngr_id']"
   ]
  },
  {
   "cell_type": "code",
   "execution_count": 0,
   "metadata": {
    "application/vnd.databricks.v1+cell": {
     "cellMetadata": {
      "byteLimit": 2048000,
      "rowLimit": 10000
     },
     "inputWidgets": {},
     "nuid": "2be92874-5b67-4979-9964-13de6f3e5fe0",
     "showTitle": false,
     "title": ""
    }
   },
   "outputs": [
    {
     "name": "stdout",
     "output_type": "stream",
     "text": [
      "[(10, 'Anil', 50000, 18), (11, 'Vikas', 75000, 16), (12, 'Nisha', 40000, 18), (13, 'Nidhi', 60000, 17), (14, 'Priya', 80000, 18), (15, 'Mohit', 45000, 18), (16, 'Rajesh', 90000, 10), (17, 'Raman', 55000, 16), (18, 'Sam', 65000, 17), (15, 'Mohit', 45000, 18), (13, 'Nidhi', 60000, 17), (14, 'Priya', 90000, 18), (18, 'Sam', 65000, 17)]\n",
      "['id', 'name', 'salary', 'mngr_id']\n"
     ]
    }
   ],
   "source": [
    "print(data)\n",
    "print(schema)\n"
   ]
  },
  {
   "cell_type": "code",
   "execution_count": 0,
   "metadata": {
    "application/vnd.databricks.v1+cell": {
     "cellMetadata": {
      "byteLimit": 2048000,
      "rowLimit": 10000
     },
     "inputWidgets": {},
     "nuid": "724e39df-bfb5-45ee-949f-c99380fe60de",
     "showTitle": false,
     "title": ""
    }
   },
   "outputs": [
    {
     "name": "stdout",
     "output_type": "stream",
     "text": [
      "+---+------+------+-------+\n",
      "| id|  name|salary|mngr_id|\n",
      "+---+------+------+-------+\n",
      "| 10|  Anil| 50000|     18|\n",
      "| 11| Vikas| 75000|     16|\n",
      "| 12| Nisha| 40000|     18|\n",
      "| 13| Nidhi| 60000|     17|\n",
      "| 14| Priya| 80000|     18|\n",
      "| 15| Mohit| 45000|     18|\n",
      "| 16|Rajesh| 90000|     10|\n",
      "| 17| Raman| 55000|     16|\n",
      "| 18|   Sam| 65000|     17|\n",
      "| 15| Mohit| 45000|     18|\n",
      "| 13| Nidhi| 60000|     17|\n",
      "| 14| Priya| 90000|     18|\n",
      "| 18|   Sam| 65000|     17|\n",
      "+---+------+------+-------+\n",
      "\n"
     ]
    }
   ],
   "source": [
    "mngr_df = spark.createDataFrame(data= data,schema= schema)\n",
    "mngr_df.show()"
   ]
  },
  {
   "cell_type": "code",
   "execution_count": 0,
   "metadata": {
    "application/vnd.databricks.v1+cell": {
     "cellMetadata": {
      "byteLimit": 2048000,
      "rowLimit": 10000
     },
     "inputWidgets": {},
     "nuid": "e9785068-687a-4964-8fd3-913781c1557c",
     "showTitle": false,
     "title": ""
    }
   },
   "outputs": [
    {
     "name": "stdout",
     "output_type": "stream",
     "text": [
      "Out[8]: 13"
     ]
    }
   ],
   "source": [
    "mngr_df.count()\n"
   ]
  },
  {
   "cell_type": "code",
   "execution_count": 0,
   "metadata": {
    "application/vnd.databricks.v1+cell": {
     "cellMetadata": {
      "byteLimit": 2048000,
      "rowLimit": 10000
     },
     "inputWidgets": {},
     "nuid": "80ab589d-d581-4c98-99e4-4c044a13f23b",
     "showTitle": false,
     "title": ""
    }
   },
   "outputs": [
    {
     "data": {
      "text/plain": [
       "\u001b[0;31m---------------------------------------------------------------------------\u001b[0m\n",
       "\u001b[0;31mTypeError\u001b[0m                                 Traceback (most recent call last)\n",
       "File \u001b[0;32m<command-3279064826818369>:1\u001b[0m\n",
       "\u001b[0;32m----> 1\u001b[0m \u001b[43mmngr_df\u001b[49m\u001b[38;5;241;43m.\u001b[39;49m\u001b[43mdistinct\u001b[49m\u001b[43m(\u001b[49m\u001b[38;5;124;43m'\u001b[39;49m\u001b[38;5;124;43mid\u001b[39;49m\u001b[38;5;124;43m'\u001b[39;49m\u001b[43m,\u001b[49m\u001b[38;5;124;43m'\u001b[39;49m\u001b[38;5;124;43mname\u001b[39;49m\u001b[38;5;124;43m'\u001b[39;49m\u001b[43m)\u001b[49m\u001b[38;5;241m.\u001b[39mshow()\n",
       "\n",
       "File \u001b[0;32m/databricks/spark/python/pyspark/instrumentation_utils.py:48\u001b[0m, in \u001b[0;36m_wrap_function.<locals>.wrapper\u001b[0;34m(*args, **kwargs)\u001b[0m\n",
       "\u001b[1;32m     46\u001b[0m start \u001b[38;5;241m=\u001b[39m time\u001b[38;5;241m.\u001b[39mperf_counter()\n",
       "\u001b[1;32m     47\u001b[0m \u001b[38;5;28;01mtry\u001b[39;00m:\n",
       "\u001b[0;32m---> 48\u001b[0m     res \u001b[38;5;241m=\u001b[39m \u001b[43mfunc\u001b[49m\u001b[43m(\u001b[49m\u001b[38;5;241;43m*\u001b[39;49m\u001b[43margs\u001b[49m\u001b[43m,\u001b[49m\u001b[43m \u001b[49m\u001b[38;5;241;43m*\u001b[39;49m\u001b[38;5;241;43m*\u001b[39;49m\u001b[43mkwargs\u001b[49m\u001b[43m)\u001b[49m\n",
       "\u001b[1;32m     49\u001b[0m     logger\u001b[38;5;241m.\u001b[39mlog_success(\n",
       "\u001b[1;32m     50\u001b[0m         module_name, class_name, function_name, time\u001b[38;5;241m.\u001b[39mperf_counter() \u001b[38;5;241m-\u001b[39m start, signature\n",
       "\u001b[1;32m     51\u001b[0m     )\n",
       "\u001b[1;32m     52\u001b[0m     \u001b[38;5;28;01mreturn\u001b[39;00m res\n",
       "\n",
       "\u001b[0;31mTypeError\u001b[0m: distinct() takes 1 positional argument but 3 were given"
      ]
     },
     "metadata": {
      "application/vnd.databricks.v1+output": {
       "arguments": {},
       "data": "\u001b[0;31m---------------------------------------------------------------------------\u001b[0m\n\u001b[0;31mTypeError\u001b[0m                                 Traceback (most recent call last)\nFile \u001b[0;32m<command-3279064826818369>:1\u001b[0m\n\u001b[0;32m----> 1\u001b[0m \u001b[43mmngr_df\u001b[49m\u001b[38;5;241;43m.\u001b[39;49m\u001b[43mdistinct\u001b[49m\u001b[43m(\u001b[49m\u001b[38;5;124;43m'\u001b[39;49m\u001b[38;5;124;43mid\u001b[39;49m\u001b[38;5;124;43m'\u001b[39;49m\u001b[43m,\u001b[49m\u001b[38;5;124;43m'\u001b[39;49m\u001b[38;5;124;43mname\u001b[39;49m\u001b[38;5;124;43m'\u001b[39;49m\u001b[43m)\u001b[49m\u001b[38;5;241m.\u001b[39mshow()\n\nFile \u001b[0;32m/databricks/spark/python/pyspark/instrumentation_utils.py:48\u001b[0m, in \u001b[0;36m_wrap_function.<locals>.wrapper\u001b[0;34m(*args, **kwargs)\u001b[0m\n\u001b[1;32m     46\u001b[0m start \u001b[38;5;241m=\u001b[39m time\u001b[38;5;241m.\u001b[39mperf_counter()\n\u001b[1;32m     47\u001b[0m \u001b[38;5;28;01mtry\u001b[39;00m:\n\u001b[0;32m---> 48\u001b[0m     res \u001b[38;5;241m=\u001b[39m \u001b[43mfunc\u001b[49m\u001b[43m(\u001b[49m\u001b[38;5;241;43m*\u001b[39;49m\u001b[43margs\u001b[49m\u001b[43m,\u001b[49m\u001b[43m \u001b[49m\u001b[38;5;241;43m*\u001b[39;49m\u001b[38;5;241;43m*\u001b[39;49m\u001b[43mkwargs\u001b[49m\u001b[43m)\u001b[49m\n\u001b[1;32m     49\u001b[0m     logger\u001b[38;5;241m.\u001b[39mlog_success(\n\u001b[1;32m     50\u001b[0m         module_name, class_name, function_name, time\u001b[38;5;241m.\u001b[39mperf_counter() \u001b[38;5;241m-\u001b[39m start, signature\n\u001b[1;32m     51\u001b[0m     )\n\u001b[1;32m     52\u001b[0m     \u001b[38;5;28;01mreturn\u001b[39;00m res\n\n\u001b[0;31mTypeError\u001b[0m: distinct() takes 1 positional argument but 3 were given",
       "errorSummary": "<span class='ansi-red-fg'>TypeError</span>: distinct() takes 1 positional argument but 3 were given",
       "errorTraceType": "ansi",
       "metadata": {},
       "type": "ipynbError"
      }
     },
     "output_type": "display_data"
    }
   ],
   "source": [
    "mngr_df.distinct('id','name').show()"
   ]
  },
  {
   "cell_type": "code",
   "execution_count": 0,
   "metadata": {
    "application/vnd.databricks.v1+cell": {
     "cellMetadata": {
      "byteLimit": 2048000,
      "rowLimit": 10000
     },
     "inputWidgets": {},
     "nuid": "6a1069a4-3158-47aa-8da2-e798091654cb",
     "showTitle": false,
     "title": ""
    }
   },
   "outputs": [
    {
     "name": "stdout",
     "output_type": "stream",
     "text": [
      "9\n",
      "+---+------+\n",
      "| id|  name|\n",
      "+---+------+\n",
      "| 10|  Anil|\n",
      "| 11| Vikas|\n",
      "| 12| Nisha|\n",
      "| 13| Nidhi|\n",
      "| 15| Mohit|\n",
      "| 14| Priya|\n",
      "| 17| Raman|\n",
      "| 16|Rajesh|\n",
      "| 18|   Sam|\n",
      "+---+------+\n",
      "\n"
     ]
    }
   ],
   "source": [
    "print(mngr_df.select('id','name').distinct().count())\n",
    "mngr_df.select('id','name').distinct().show()\n"
   ]
  },
  {
   "cell_type": "code",
   "execution_count": 0,
   "metadata": {
    "application/vnd.databricks.v1+cell": {
     "cellMetadata": {
      "byteLimit": 2048000,
      "rowLimit": 10000
     },
     "inputWidgets": {},
     "nuid": "479530f9-1482-4c15-8f92-e3dee02cfacb",
     "showTitle": false,
     "title": ""
    }
   },
   "outputs": [
    {
     "name": "stdout",
     "output_type": "stream",
     "text": [
      "+---+------+------+-------+\n",
      "| id|  name|salary|mngr_id|\n",
      "+---+------+------+-------+\n",
      "| 10|  Anil| 50000|     18|\n",
      "| 12| Nisha| 40000|     18|\n",
      "| 11| Vikas| 75000|     16|\n",
      "| 13| Nidhi| 60000|     17|\n",
      "| 15| Mohit| 45000|     18|\n",
      "| 14| Priya| 80000|     18|\n",
      "| 16|Rajesh| 90000|     10|\n",
      "| 17| Raman| 55000|     16|\n",
      "| 18|   Sam| 65000|     17|\n",
      "| 14| Priya| 90000|     18|\n",
      "+---+------+------+-------+\n",
      "\n"
     ]
    }
   ],
   "source": [
    "mngr_df.dropDuplicates(['id','name','salary','mngr_id']).show()"
   ]
  },
  {
   "cell_type": "code",
   "execution_count": 0,
   "metadata": {
    "application/vnd.databricks.v1+cell": {
     "cellMetadata": {
      "byteLimit": 2048000,
      "rowLimit": 10000
     },
     "inputWidgets": {},
     "nuid": "5adbe53f-0743-4b23-a866-4f9ce3cd22ad",
     "showTitle": false,
     "title": ""
    }
   },
   "outputs": [
    {
     "data": {
      "text/plain": [
       "\u001b[0;31m---------------------------------------------------------------------------\u001b[0m\n",
       "\u001b[0;31mNameError\u001b[0m                                 Traceback (most recent call last)\n",
       "File \u001b[0;32m<command-3279064826818372>:1\u001b[0m\n",
       "\u001b[0;32m----> 1\u001b[0m mngr_df\u001b[38;5;241m.\u001b[39msort((\u001b[43mcol\u001b[49m(\u001b[38;5;124m'\u001b[39m\u001b[38;5;124msal\u001b[39m\u001b[38;5;124m'\u001b[39m))\u001b[38;5;241m.\u001b[39mshow())\n",
       "\n",
       "\u001b[0;31mNameError\u001b[0m: name 'col' is not defined"
      ]
     },
     "metadata": {
      "application/vnd.databricks.v1+output": {
       "arguments": {},
       "data": "\u001b[0;31m---------------------------------------------------------------------------\u001b[0m\n\u001b[0;31mNameError\u001b[0m                                 Traceback (most recent call last)\nFile \u001b[0;32m<command-3279064826818372>:1\u001b[0m\n\u001b[0;32m----> 1\u001b[0m mngr_df\u001b[38;5;241m.\u001b[39msort((\u001b[43mcol\u001b[49m(\u001b[38;5;124m'\u001b[39m\u001b[38;5;124msal\u001b[39m\u001b[38;5;124m'\u001b[39m))\u001b[38;5;241m.\u001b[39mshow())\n\n\u001b[0;31mNameError\u001b[0m: name 'col' is not defined",
       "errorSummary": "<span class='ansi-red-fg'>NameError</span>: name 'col' is not defined",
       "errorTraceType": "ansi",
       "metadata": {},
       "type": "ipynbError"
      }
     },
     "output_type": "display_data"
    }
   ],
   "source": [
    "mngr_df.sort((col('sal')).show())"
   ]
  },
  {
   "cell_type": "code",
   "execution_count": 0,
   "metadata": {
    "application/vnd.databricks.v1+cell": {
     "cellMetadata": {
      "byteLimit": 2048000,
      "rowLimit": 10000
     },
     "inputWidgets": {},
     "nuid": "70462c09-6d9c-477f-b6c5-c775014bbfd3",
     "showTitle": false,
     "title": ""
    }
   },
   "outputs": [
    {
     "name": "stdout",
     "output_type": "stream",
     "text": [
      "+---+------+------+-------+\n",
      "| id|  name|salary|mngr_id|\n",
      "+---+------+------+-------+\n",
      "| 12| Nisha| 40000|     18|\n",
      "| 15| Mohit| 45000|     18|\n",
      "| 15| Mohit| 45000|     18|\n",
      "| 10|  Anil| 50000|     18|\n",
      "| 17| Raman| 55000|     16|\n",
      "| 13| Nidhi| 60000|     17|\n",
      "| 13| Nidhi| 60000|     17|\n",
      "| 18|   Sam| 65000|     17|\n",
      "| 18|   Sam| 65000|     17|\n",
      "| 11| Vikas| 75000|     16|\n",
      "| 14| Priya| 80000|     18|\n",
      "| 16|Rajesh| 90000|     10|\n",
      "| 14| Priya| 90000|     18|\n",
      "+---+------+------+-------+\n",
      "\n"
     ]
    }
   ],
   "source": [
    "from pyspark.sql.functions import *                           \n",
    "\n",
    "\n",
    "mngr_df.sort(col('salary')).show()\n",
    "\n"
   ]
  },
  {
   "cell_type": "code",
   "execution_count": 0,
   "metadata": {
    "application/vnd.databricks.v1+cell": {
     "cellMetadata": {
      "byteLimit": 2048000,
      "rowLimit": 10000
     },
     "inputWidgets": {},
     "nuid": "8c581f81-07f1-494d-a58f-8f9dc7c166c2",
     "showTitle": false,
     "title": ""
    }
   },
   "outputs": [
    {
     "name": "stdout",
     "output_type": "stream",
     "text": [
      "+---+------+------+-------+\n",
      "| id|  name|salary|mngr_id|\n",
      "+---+------+------+-------+\n",
      "| 14| Priya| 90000|     18|\n",
      "| 16|Rajesh| 90000|     10|\n",
      "| 14| Priya| 80000|     18|\n",
      "| 11| Vikas| 75000|     16|\n",
      "| 18|   Sam| 65000|     17|\n",
      "| 18|   Sam| 65000|     17|\n",
      "| 13| Nidhi| 60000|     17|\n",
      "| 13| Nidhi| 60000|     17|\n",
      "| 17| Raman| 55000|     16|\n",
      "| 10|  Anil| 50000|     18|\n",
      "| 15| Mohit| 45000|     18|\n",
      "| 15| Mohit| 45000|     18|\n",
      "| 12| Nisha| 40000|     18|\n",
      "+---+------+------+-------+\n",
      "\n"
     ]
    }
   ],
   "source": [
    "mngr_df.sort(col('salary').desc()).show()\n"
   ]
  },
  {
   "cell_type": "code",
   "execution_count": 0,
   "metadata": {
    "application/vnd.databricks.v1+cell": {
     "cellMetadata": {
      "byteLimit": 2048000,
      "rowLimit": 10000
     },
     "inputWidgets": {},
     "nuid": "56023bf4-2557-49b6-b681-966b3bb42a1e",
     "showTitle": false,
     "title": ""
    }
   },
   "outputs": [
    {
     "name": "stdout",
     "output_type": "stream",
     "text": [
      "+---+------+------+-------+\n",
      "| id|  name|salary|mngr_id|\n",
      "+---+------+------+-------+\n",
      "| 16|Rajesh| 90000|     10|\n",
      "| 14| Priya| 90000|     18|\n",
      "| 14| Priya| 80000|     18|\n",
      "| 11| Vikas| 75000|     16|\n",
      "| 18|   Sam| 65000|     17|\n",
      "| 18|   Sam| 65000|     17|\n",
      "| 13| Nidhi| 60000|     17|\n",
      "| 13| Nidhi| 60000|     17|\n",
      "| 17| Raman| 55000|     16|\n",
      "| 10|  Anil| 50000|     18|\n",
      "| 15| Mohit| 45000|     18|\n",
      "| 15| Mohit| 45000|     18|\n",
      "| 12| Nisha| 40000|     18|\n",
      "+---+------+------+-------+\n",
      "\n"
     ]
    }
   ],
   "source": [
    "\n",
    "mngr_df.sort(col('salary').desc(),col('name').desc()).show()\n",
    "\n"
   ]
  },
  {
   "cell_type": "code",
   "execution_count": 0,
   "metadata": {
    "application/vnd.databricks.v1+cell": {
     "cellMetadata": {
      "byteLimit": 2048000,
      "rowLimit": 10000
     },
     "inputWidgets": {},
     "nuid": "29f8a41c-e798-46b7-b882-2723993fddc6",
     "showTitle": false,
     "title": ""
    }
   },
   "outputs": [
    {
     "name": "stdout",
     "output_type": "stream",
     "text": [
      "+---+------+------+-------+\n",
      "| id|  name|salary|mngr_id|\n",
      "+---+------+------+-------+\n",
      "| 12| Nisha| 40000|     18|\n",
      "| 15| Mohit| 45000|     18|\n",
      "| 15| Mohit| 45000|     18|\n",
      "| 10|  Anil| 50000|     18|\n",
      "| 17| Raman| 55000|     16|\n",
      "| 13| Nidhi| 60000|     17|\n",
      "| 13| Nidhi| 60000|     17|\n",
      "| 18|   Sam| 65000|     17|\n",
      "| 18|   Sam| 65000|     17|\n",
      "| 11| Vikas| 75000|     16|\n",
      "| 14| Priya| 80000|     18|\n",
      "| 14| Priya| 90000|     18|\n",
      "| 16|Rajesh| 90000|     10|\n",
      "+---+------+------+-------+\n",
      "\n"
     ]
    }
   ],
   "source": [
    "\n",
    "mngr_df.sort(col('salary').asc(),col('name').asc()).show()\n",
    "\n"
   ]
  },
  {
   "cell_type": "code",
   "execution_count": 0,
   "metadata": {
    "application/vnd.databricks.v1+cell": {
     "cellMetadata": {
      "byteLimit": 2048000,
      "rowLimit": 10000
     },
     "inputWidgets": {},
     "nuid": "0aa230ed-c1b5-46bc-be58-5ad6e5b9011e",
     "showTitle": false,
     "title": ""
    }
   },
   "outputs": [
    {
     "name": "stdout",
     "output_type": "stream",
     "text": [
      "+---+------+------+-------+\n",
      "| id|  name|salary|mngr_id|\n",
      "+---+------+------+-------+\n",
      "| 10|  Anil| 50000|     18|\n",
      "| 11| Vikas| 75000|     16|\n",
      "| 12| Nisha| 40000|     18|\n",
      "| 13| Nidhi| 60000|     17|\n",
      "| 13| Nidhi| 60000|     17|\n",
      "| 14| Priya| 80000|     18|\n",
      "| 14| Priya| 90000|     18|\n",
      "| 15| Mohit| 45000|     18|\n",
      "| 15| Mohit| 45000|     18|\n",
      "| 16|Rajesh| 90000|     10|\n",
      "| 17| Raman| 55000|     16|\n",
      "| 18|   Sam| 65000|     17|\n",
      "| 18|   Sam| 65000|     17|\n",
      "+---+------+------+-------+\n",
      "\n"
     ]
    }
   ],
   "source": [
    "mngr_df.sort(col('id')).show()"
   ]
  },
  {
   "cell_type": "code",
   "execution_count": 0,
   "metadata": {
    "application/vnd.databricks.v1+cell": {
     "cellMetadata": {},
     "inputWidgets": {},
     "nuid": "7ce8988d-6279-46a9-97e2-acb02b00aa31",
     "showTitle": false,
     "title": ""
    }
   },
   "outputs": [],
   "source": []
  },
  {
   "cell_type": "code",
   "execution_count": 0,
   "metadata": {
    "application/vnd.databricks.v1+cell": {
     "cellMetadata": {
      "byteLimit": 2048000,
      "rowLimit": 10000
     },
     "inputWidgets": {},
     "nuid": "9819bc5e-44ef-4742-b44b-24c6851de068",
     "showTitle": false,
     "title": ""
    }
   },
   "outputs": [],
   "source": [
    "leet_code_data = [\n",
    "    (1, 'Will', None),\n",
    "    (2, 'Jane', None),\n",
    "    (3, 'Alex', 2),\n",
    "    (4, 'Bill', None),\n",
    "    (5, 'Zack', 1),\n",
    "    (6, 'Mark', 2)\n",
    "]\n",
    "\n",
    "schema_leet = ['id','name','refree_id']"
   ]
  },
  {
   "cell_type": "code",
   "execution_count": 0,
   "metadata": {
    "application/vnd.databricks.v1+cell": {
     "cellMetadata": {
      "byteLimit": 2048000,
      "rowLimit": 10000
     },
     "inputWidgets": {},
     "nuid": "51f41b9c-b813-4f09-bdc5-2c9f89f62360",
     "showTitle": false,
     "title": ""
    }
   },
   "outputs": [
    {
     "name": "stdout",
     "output_type": "stream",
     "text": [
      "Out[19]: ['id', 'name', 'refree_id']"
     ]
    }
   ],
   "source": [
    "schema_leet"
   ]
  },
  {
   "cell_type": "code",
   "execution_count": 0,
   "metadata": {
    "application/vnd.databricks.v1+cell": {
     "cellMetadata": {
      "byteLimit": 2048000,
      "rowLimit": 10000
     },
     "inputWidgets": {},
     "nuid": "4993aa50-ffc1-4245-8a75-15b45370a239",
     "showTitle": false,
     "title": ""
    }
   },
   "outputs": [
    {
     "name": "stdout",
     "output_type": "stream",
     "text": [
      "+---+----+---------+\n",
      "| id|name|refree_id|\n",
      "+---+----+---------+\n",
      "|  1|Will|     null|\n",
      "|  2|Jane|     null|\n",
      "|  3|Alex|        2|\n",
      "|  4|Bill|     null|\n",
      "|  5|Zack|        1|\n",
      "|  6|Mark|        2|\n",
      "+---+----+---------+\n",
      "\n"
     ]
    }
   ],
   "source": [
    "leet_df =spark.createDataFrame(data =leet_code_data,schema =schema_leet)\n",
    "leet_df.show()"
   ]
  },
  {
   "cell_type": "code",
   "execution_count": 0,
   "metadata": {
    "application/vnd.databricks.v1+cell": {
     "cellMetadata": {},
     "inputWidgets": {},
     "nuid": "d2d473eb-1eb7-4f0a-9232-ee83a2f44e4b",
     "showTitle": false,
     "title": ""
    }
   },
   "outputs": [],
   "source": []
  },
  {
   "cell_type": "code",
   "execution_count": 0,
   "metadata": {
    "application/vnd.databricks.v1+cell": {
     "cellMetadata": {},
     "inputWidgets": {},
     "nuid": "cfc7cec6-ac5c-4e64-810e-ee1683a7a2f0",
     "showTitle": false,
     "title": ""
    }
   },
   "outputs": [],
   "source": []
  }
 ],
 "metadata": {
  "application/vnd.databricks.v1+notebook": {
   "dashboards": [],
   "environmentMetadata": null,
   "language": "python",
   "notebookMetadata": {
    "pythonIndentUnit": 4
   },
   "notebookName": "15_transformation_in_spaark",
   "widgets": {}
  },
  "kernelspec": {
   "display_name": "Python 3 (ipykernel)",
   "language": "python",
   "name": "python3"
  },
  "language_info": {
   "codemirror_mode": {
    "name": "ipython",
    "version": 3
   },
   "file_extension": ".py",
   "mimetype": "text/x-python",
   "name": "python",
   "nbconvert_exporter": "python",
   "pygments_lexer": "ipython3",
   "version": "3.9.13"
  }
 },
 "nbformat": 4,
 "nbformat_minor": 1
}
