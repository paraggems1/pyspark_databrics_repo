{
 "cells": [
  {
   "cell_type": "code",
   "execution_count": 0,
   "metadata": {
    "application/vnd.databricks.v1+cell": {
     "cellMetadata": {
      "byteLimit": 2048000,
      "rowLimit": 10000
     },
     "inputWidgets": {},
     "nuid": "9903d977-0a59-4298-a9f0-1a9e3cabc773",
     "showTitle": false,
     "tableResultSettingsMap": {},
     "title": ""
    }
   },
   "outputs": [
    {
     "data": {
      "text/html": [
       "\n",
       "            <div>\n",
       "                <p><b>SparkSession - hive</b></p>\n",
       "                \n",
       "        <div>\n",
       "            <p><b>SparkContext</b></p>\n",
       "\n",
       "            <p><a href=\"/?o=2603575592592943#setting/sparkui/1127-075529-javb37v0/driver-7379289317164967773\">Spark UI</a></p>\n",
       "\n",
       "            <dl>\n",
       "              <dt>Version</dt>\n",
       "                <dd><code>v3.3.2</code></dd>\n",
       "              <dt>Master</dt>\n",
       "                <dd><code>local[8]</code></dd>\n",
       "              <dt>AppName</dt>\n",
       "                <dd><code>Databricks Shell</code></dd>\n",
       "            </dl>\n",
       "        </div>\n",
       "        \n",
       "            </div>\n",
       "        "
      ]
     },
     "metadata": {
      "application/vnd.databricks.v1+output": {
       "addedWidgets": {},
       "arguments": {},
       "data": "\n            <div>\n                <p><b>SparkSession - hive</b></p>\n                \n        <div>\n            <p><b>SparkContext</b></p>\n\n            <p><a href=\"/?o=2603575592592943#setting/sparkui/1127-075529-javb37v0/driver-7379289317164967773\">Spark UI</a></p>\n\n            <dl>\n              <dt>Version</dt>\n                <dd><code>v3.3.2</code></dd>\n              <dt>Master</dt>\n                <dd><code>local[8]</code></dd>\n              <dt>AppName</dt>\n                <dd><code>Databricks Shell</code></dd>\n            </dl>\n        </div>\n        \n            </div>\n        ",
       "datasetInfos": [],
       "metadata": {},
       "removedWidgets": [],
       "textData": null,
       "type": "htmlSandbox"
      }
     },
     "output_type": "display_data"
    }
   ],
   "source": [
    "spark"
   ]
  },
  {
   "cell_type": "code",
   "execution_count": 0,
   "metadata": {
    "application/vnd.databricks.v1+cell": {
     "cellMetadata": {
      "byteLimit": 2048000,
      "rowLimit": 10000
     },
     "inputWidgets": {},
     "nuid": "4a4ccc74-4fd2-4ffa-b16f-2b73c3976350",
     "showTitle": false,
     "tableResultSettingsMap": {},
     "title": ""
    }
   },
   "outputs": [
    {
     "data": {
      "text/html": [
       "<style scoped>\n",
       "  .table-result-container {\n",
       "    max-height: 300px;\n",
       "    overflow: auto;\n",
       "  }\n",
       "  table, th, td {\n",
       "    border: 1px solid black;\n",
       "    border-collapse: collapse;\n",
       "  }\n",
       "  th, td {\n",
       "    padding: 5px;\n",
       "  }\n",
       "  th {\n",
       "    text-align: left;\n",
       "  }\n",
       "</style><div class='table-result-container'><table class='table-result'><thead style='background-color: white'><tr><th>path</th><th>name</th><th>size</th><th>modificationTime</th></tr></thead><tbody><tr><td>dbfs:/FileStore/tables/2010_summary.csv</td><td>2010_summary.csv</td><td>7121</td><td>1721349228000</td></tr><tr><td>dbfs:/FileStore/tables/Multi_line_correct-1.json</td><td>Multi_line_correct-1.json</td><td>314</td><td>1722306218000</td></tr><tr><td>dbfs:/FileStore/tables/Multi_line_correct-2.json</td><td>Multi_line_correct-2.json</td><td>285</td><td>1722306401000</td></tr><tr><td>dbfs:/FileStore/tables/Multi_line_correct.json</td><td>Multi_line_correct.json</td><td>314</td><td>1722305125000</td></tr><tr><td>dbfs:/FileStore/tables/Multi_line_incorrect-1.json</td><td>Multi_line_incorrect-1.json</td><td>306</td><td>1722306868000</td></tr><tr><td>dbfs:/FileStore/tables/Multi_line_incorrect.json</td><td>Multi_line_incorrect.json</td><td>306</td><td>1722305125000</td></tr><tr><td>dbfs:/FileStore/tables/bad_records/</td><td>bad_records/</td><td>0</td><td>0</td></tr><tr><td>dbfs:/FileStore/tables/corrupt_Multi_linejson.json</td><td>corrupt_Multi_linejson.json</td><td>303</td><td>1722307303000</td></tr><tr><td>dbfs:/FileStore/tables/corrupted_json.json</td><td>corrupted_json.json</td><td>224</td><td>1722307497000</td></tr><tr><td>dbfs:/FileStore/tables/csv_write/</td><td>csv_write/</td><td>0</td><td>0</td></tr><tr><td>dbfs:/FileStore/tables/csv_write_repartition/</td><td>csv_write_repartition/</td><td>0</td><td>0</td></tr><tr><td>dbfs:/FileStore/tables/emlpoyee.csv</td><td>emlpoyee.csv</td><td>230</td><td>1721434558000</td></tr><tr><td>dbfs:/FileStore/tables/file5.json</td><td>file5.json</td><td>669503</td><td>1722304339000</td></tr><tr><td>dbfs:/FileStore/tables/flight_data-1.csv</td><td>flight_data-1.csv</td><td>7121</td><td>1721349620000</td></tr><tr><td>dbfs:/FileStore/tables/flight_data-2.csv</td><td>flight_data-2.csv</td><td>7121</td><td>1721354248000</td></tr><tr><td>dbfs:/FileStore/tables/flight_data-3.csv</td><td>flight_data-3.csv</td><td>7121</td><td>1722310428000</td></tr><tr><td>dbfs:/FileStore/tables/flight_data.csv</td><td>flight_data.csv</td><td>7121</td><td>1721349519000</td></tr><tr><td>dbfs:/FileStore/tables/flight_data_1-1.csv</td><td>flight_data_1-1.csv</td><td>7069</td><td>1721431466000</td></tr><tr><td>dbfs:/FileStore/tables/flight_data_1-2.csv</td><td>flight_data_1-2.csv</td><td>7069</td><td>1721431556000</td></tr><tr><td>dbfs:/FileStore/tables/flight_data_1.csv</td><td>flight_data_1.csv</td><td>6729</td><td>1721431142000</td></tr><tr><td>dbfs:/FileStore/tables/json_nested.json</td><td>json_nested.json</td><td>891043</td><td>1722304339000</td></tr><tr><td>dbfs:/FileStore/tables/json_records_in_video7.txt</td><td>json_records_in_video7.txt</td><td>1422</td><td>1722304339000</td></tr><tr><td>dbfs:/FileStore/tables/lec14_data.csv</td><td>lec14_data.csv</td><td>388</td><td>1723161236000</td></tr><tr><td>dbfs:/FileStore/tables/lec8_data-1.csv</td><td>lec8_data-1.csv</td><td>430</td><td>1722469026000</td></tr><tr><td>dbfs:/FileStore/tables/lec8_data.csv</td><td>lec8_data.csv</td><td>743</td><td>1722316864000</td></tr><tr><td>dbfs:/FileStore/tables/lec8_data.txt</td><td>lec8_data.txt</td><td>743</td><td>1722316700000</td></tr><tr><td>dbfs:/FileStore/tables/line_delimited-1.json</td><td>line_delimited-1.json</td><td>756</td><td>1722305350000</td></tr><tr><td>dbfs:/FileStore/tables/line_delimited.json</td><td>line_delimited.json</td><td>756</td><td>1722305125000</td></tr><tr><td>dbfs:/FileStore/tables/line_delimited_json.json</td><td>line_delimited_json.json</td><td>225</td><td>1722305720000</td></tr><tr><td>dbfs:/FileStore/tables/single_file_json_with_extra_fields.json</td><td>single_file_json_with_extra_fields.json</td><td>238</td><td>1722305965000</td></tr><tr><td>dbfs:/FileStore/tables/write_to_disc/</td><td>write_to_disc/</td><td>0</td><td>0</td></tr></tbody></table></div>"
      ]
     },
     "metadata": {
      "application/vnd.databricks.v1+output": {
       "addedWidgets": {},
       "aggData": [],
       "aggError": "",
       "aggOverflow": false,
       "aggSchema": [],
       "aggSeriesLimitReached": false,
       "aggType": "",
       "arguments": {},
       "columnCustomDisplayInfos": {},
       "data": [
        [
         "dbfs:/FileStore/tables/2010_summary.csv",
         "2010_summary.csv",
         7121,
         1721349228000
        ],
        [
         "dbfs:/FileStore/tables/Multi_line_correct-1.json",
         "Multi_line_correct-1.json",
         314,
         1722306218000
        ],
        [
         "dbfs:/FileStore/tables/Multi_line_correct-2.json",
         "Multi_line_correct-2.json",
         285,
         1722306401000
        ],
        [
         "dbfs:/FileStore/tables/Multi_line_correct.json",
         "Multi_line_correct.json",
         314,
         1722305125000
        ],
        [
         "dbfs:/FileStore/tables/Multi_line_incorrect-1.json",
         "Multi_line_incorrect-1.json",
         306,
         1722306868000
        ],
        [
         "dbfs:/FileStore/tables/Multi_line_incorrect.json",
         "Multi_line_incorrect.json",
         306,
         1722305125000
        ],
        [
         "dbfs:/FileStore/tables/bad_records/",
         "bad_records/",
         0,
         0
        ],
        [
         "dbfs:/FileStore/tables/corrupt_Multi_linejson.json",
         "corrupt_Multi_linejson.json",
         303,
         1722307303000
        ],
        [
         "dbfs:/FileStore/tables/corrupted_json.json",
         "corrupted_json.json",
         224,
         1722307497000
        ],
        [
         "dbfs:/FileStore/tables/csv_write/",
         "csv_write/",
         0,
         0
        ],
        [
         "dbfs:/FileStore/tables/csv_write_repartition/",
         "csv_write_repartition/",
         0,
         0
        ],
        [
         "dbfs:/FileStore/tables/emlpoyee.csv",
         "emlpoyee.csv",
         230,
         1721434558000
        ],
        [
         "dbfs:/FileStore/tables/file5.json",
         "file5.json",
         669503,
         1722304339000
        ],
        [
         "dbfs:/FileStore/tables/flight_data-1.csv",
         "flight_data-1.csv",
         7121,
         1721349620000
        ],
        [
         "dbfs:/FileStore/tables/flight_data-2.csv",
         "flight_data-2.csv",
         7121,
         1721354248000
        ],
        [
         "dbfs:/FileStore/tables/flight_data-3.csv",
         "flight_data-3.csv",
         7121,
         1722310428000
        ],
        [
         "dbfs:/FileStore/tables/flight_data.csv",
         "flight_data.csv",
         7121,
         1721349519000
        ],
        [
         "dbfs:/FileStore/tables/flight_data_1-1.csv",
         "flight_data_1-1.csv",
         7069,
         1721431466000
        ],
        [
         "dbfs:/FileStore/tables/flight_data_1-2.csv",
         "flight_data_1-2.csv",
         7069,
         1721431556000
        ],
        [
         "dbfs:/FileStore/tables/flight_data_1.csv",
         "flight_data_1.csv",
         6729,
         1721431142000
        ],
        [
         "dbfs:/FileStore/tables/json_nested.json",
         "json_nested.json",
         891043,
         1722304339000
        ],
        [
         "dbfs:/FileStore/tables/json_records_in_video7.txt",
         "json_records_in_video7.txt",
         1422,
         1722304339000
        ],
        [
         "dbfs:/FileStore/tables/lec14_data.csv",
         "lec14_data.csv",
         388,
         1723161236000
        ],
        [
         "dbfs:/FileStore/tables/lec8_data-1.csv",
         "lec8_data-1.csv",
         430,
         1722469026000
        ],
        [
         "dbfs:/FileStore/tables/lec8_data.csv",
         "lec8_data.csv",
         743,
         1722316864000
        ],
        [
         "dbfs:/FileStore/tables/lec8_data.txt",
         "lec8_data.txt",
         743,
         1722316700000
        ],
        [
         "dbfs:/FileStore/tables/line_delimited-1.json",
         "line_delimited-1.json",
         756,
         1722305350000
        ],
        [
         "dbfs:/FileStore/tables/line_delimited.json",
         "line_delimited.json",
         756,
         1722305125000
        ],
        [
         "dbfs:/FileStore/tables/line_delimited_json.json",
         "line_delimited_json.json",
         225,
         1722305720000
        ],
        [
         "dbfs:/FileStore/tables/single_file_json_with_extra_fields.json",
         "single_file_json_with_extra_fields.json",
         238,
         1722305965000
        ],
        [
         "dbfs:/FileStore/tables/write_to_disc/",
         "write_to_disc/",
         0,
         0
        ]
       ],
       "datasetInfos": [],
       "dbfsResultPath": null,
       "isJsonSchema": true,
       "metadata": {
        "isDbfsCommandResult": false
       },
       "overflow": false,
       "plotOptions": {
        "customPlotOptions": {},
        "displayType": "table",
        "pivotAggregation": null,
        "pivotColumns": null,
        "xColumns": null,
        "yColumns": null
       },
       "removedWidgets": [],
       "schema": [
        {
         "metadata": "{}",
         "name": "path",
         "type": "\"string\""
        },
        {
         "metadata": "{}",
         "name": "name",
         "type": "\"string\""
        },
        {
         "metadata": "{}",
         "name": "size",
         "type": "\"long\""
        },
        {
         "metadata": "{}",
         "name": "modificationTime",
         "type": "\"long\""
        }
       ],
       "type": "table"
      }
     },
     "output_type": "display_data"
    }
   ],
   "source": [
    "%fs\n",
    "ls /FileStore/tables/"
   ]
  },
  {
   "cell_type": "code",
   "execution_count": 0,
   "metadata": {
    "application/vnd.databricks.v1+cell": {
     "cellMetadata": {
      "byteLimit": 2048000,
      "rowLimit": 10000
     },
     "inputWidgets": {},
     "nuid": "03d2c2e0-fa2a-43b7-8a7e-6cfa15ff8746",
     "showTitle": false,
     "tableResultSettingsMap": {},
     "title": ""
    }
   },
   "outputs": [],
   "source": [
    "resto_data =spark.read.format(\"json\")\\\n",
    "    .option(\"multiline\",\"true\")\\\n",
    "    .option(\"inferschema\",\"true\")\\\n",
    "    .load(\"/FileStore/tables/file5.json\")"
   ]
  },
  {
   "cell_type": "code",
   "execution_count": 0,
   "metadata": {
    "application/vnd.databricks.v1+cell": {
     "cellMetadata": {
      "byteLimit": 2048000,
      "rowLimit": 10000
     },
     "inputWidgets": {},
     "nuid": "69e10690-fee2-4561-b7c3-bb7cab811d69",
     "showTitle": false,
     "tableResultSettingsMap": {},
     "title": ""
    }
   },
   "outputs": [
    {
     "name": "stdout",
     "output_type": "stream",
     "text": [
      "+----+-------+--------------------+-------------+-------------+-------------+------+\n",
      "|code|message|         restaurants|results_found|results_shown|results_start|status|\n",
      "+----+-------+--------------------+-------------+-------------+-------------+------+\n",
      "|null|   null|                  []|            0|            0|            1|  null|\n",
      "|null|   null|[{{{17066603}, b9...|         6835|           20|            1|  null|\n",
      "|null|   null|                  []|            0|            0|            1|  null|\n",
      "|null|   null|                  []|            0|            0|            1|  null|\n",
      "|null|   null|[{{{17093124}, b9...|         8680|           20|            1|  null|\n",
      "|null|   null|                  []|            0|            0|            1|  null|\n",
      "|null|   null|                  []|            0|            0|            1|  null|\n",
      "|null|   null|[{{{17580142}, b9...|          943|           20|            1|  null|\n",
      "|null|   null|                  []|            0|            0|            1|  null|\n",
      "|null|   null|                  []|            0|            0|            1|  null|\n",
      "|null|   null|[{{{17284158}, b9...|          257|           20|            1|  null|\n",
      "|null|   null|                  []|            0|            0|            1|  null|\n",
      "|null|   null|                  []|            0|            0|            1|  null|\n",
      "|null|   null|[{{{17678233}, b9...|          358|           20|            1|  null|\n",
      "|null|   null|                  []|            0|            0|            1|  null|\n",
      "|null|   null|                  []|            0|            0|            1|  null|\n",
      "|null|   null|[{{{17375047}, b9...|          641|           20|            1|  null|\n",
      "|null|   null|                  []|            0|            0|            1|  null|\n",
      "|null|   null|                  []|            0|            0|            1|  null|\n",
      "|null|   null|[{{{17616590}, b9...|         1613|           20|            1|  null|\n",
      "+----+-------+--------------------+-------------+-------------+-------------+------+\n",
      "only showing top 20 rows\n",
      "\n"
     ]
    }
   ],
   "source": [
    "resto_data.show()"
   ]
  },
  {
   "cell_type": "code",
   "execution_count": 0,
   "metadata": {
    "application/vnd.databricks.v1+cell": {
     "cellMetadata": {
      "byteLimit": 2048000,
      "rowLimit": 10000
     },
     "inputWidgets": {},
     "nuid": "5a2bbe32-907e-4c29-8d01-ab876dc0f2f7",
     "showTitle": false,
     "tableResultSettingsMap": {},
     "title": ""
    }
   },
   "outputs": [
    {
     "name": "stdout",
     "output_type": "stream",
     "text": [
      "root\n",
      " |-- code: long (nullable = true)\n",
      " |-- message: string (nullable = true)\n",
      " |-- restaurants: array (nullable = true)\n",
      " |    |-- element: struct (containsNull = true)\n",
      " |    |    |-- restaurant: struct (nullable = true)\n",
      " |    |    |    |-- R: struct (nullable = true)\n",
      " |    |    |    |    |-- res_id: long (nullable = true)\n",
      " |    |    |    |-- apikey: string (nullable = true)\n",
      " |    |    |    |-- average_cost_for_two: long (nullable = true)\n",
      " |    |    |    |-- cuisines: string (nullable = true)\n",
      " |    |    |    |-- currency: string (nullable = true)\n",
      " |    |    |    |-- deeplink: string (nullable = true)\n",
      " |    |    |    |-- establishment_types: array (nullable = true)\n",
      " |    |    |    |    |-- element: string (containsNull = true)\n",
      " |    |    |    |-- events_url: string (nullable = true)\n",
      " |    |    |    |-- featured_image: string (nullable = true)\n",
      " |    |    |    |-- has_online_delivery: long (nullable = true)\n",
      " |    |    |    |-- has_table_booking: long (nullable = true)\n",
      " |    |    |    |-- id: string (nullable = true)\n",
      " |    |    |    |-- is_delivering_now: long (nullable = true)\n",
      " |    |    |    |-- location: struct (nullable = true)\n",
      " |    |    |    |    |-- address: string (nullable = true)\n",
      " |    |    |    |    |-- city: string (nullable = true)\n",
      " |    |    |    |    |-- city_id: long (nullable = true)\n",
      " |    |    |    |    |-- country_id: long (nullable = true)\n",
      " |    |    |    |    |-- latitude: string (nullable = true)\n",
      " |    |    |    |    |-- locality: string (nullable = true)\n",
      " |    |    |    |    |-- locality_verbose: string (nullable = true)\n",
      " |    |    |    |    |-- longitude: string (nullable = true)\n",
      " |    |    |    |    |-- zipcode: string (nullable = true)\n",
      " |    |    |    |-- menu_url: string (nullable = true)\n",
      " |    |    |    |-- name: string (nullable = true)\n",
      " |    |    |    |-- offers: array (nullable = true)\n",
      " |    |    |    |    |-- element: string (containsNull = true)\n",
      " |    |    |    |-- photos_url: string (nullable = true)\n",
      " |    |    |    |-- price_range: long (nullable = true)\n",
      " |    |    |    |-- switch_to_order_menu: long (nullable = true)\n",
      " |    |    |    |-- thumb: string (nullable = true)\n",
      " |    |    |    |-- url: string (nullable = true)\n",
      " |    |    |    |-- user_rating: struct (nullable = true)\n",
      " |    |    |    |    |-- aggregate_rating: string (nullable = true)\n",
      " |    |    |    |    |-- rating_color: string (nullable = true)\n",
      " |    |    |    |    |-- rating_text: string (nullable = true)\n",
      " |    |    |    |    |-- votes: string (nullable = true)\n",
      " |-- results_found: long (nullable = true)\n",
      " |-- results_shown: long (nullable = true)\n",
      " |-- results_start: string (nullable = true)\n",
      " |-- status: string (nullable = true)\n",
      "\n"
     ]
    }
   ],
   "source": [
    "resto_data.printSchema()"
   ]
  },
  {
   "cell_type": "code",
   "execution_count": 0,
   "metadata": {
    "application/vnd.databricks.v1+cell": {
     "cellMetadata": {
      "byteLimit": 2048000,
      "rowLimit": 10000
     },
     "inputWidgets": {},
     "nuid": "8d780f4b-5e69-4315-8f43-6d74761eaa89",
     "showTitle": false,
     "tableResultSettingsMap": {},
     "title": ""
    }
   },
   "outputs": [
    {
     "data": {
      "text/plain": [
       "\u001b[0;31m---------------------------------------------------------------------------\u001b[0m\n",
       "\u001b[0;31mNameError\u001b[0m                                 Traceback (most recent call last)\n",
       "File \u001b[0;32m<command-4403274775721682>:1\u001b[0m\n",
       "\u001b[0;32m----> 1\u001b[0m resto_data\u001b[38;5;241m.\u001b[39mselect((\u001b[38;5;124m\"\u001b[39m\u001b[38;5;124m*\u001b[39m\u001b[38;5;124m\"\u001b[39m),\u001b[43mexplode\u001b[49m(\u001b[38;5;124m\"\u001b[39m\u001b[38;5;124mrestaurants\u001b[39m\u001b[38;5;124m\"\u001b[39m)\u001b[38;5;241m.\u001b[39malias(\u001b[38;5;124m\"\u001b[39m\u001b[38;5;124mnew_restaurants\u001b[39m\u001b[38;5;124m\"\u001b[39m))\n",
       "\n",
       "\u001b[0;31mNameError\u001b[0m: name 'explode' is not defined"
      ]
     },
     "metadata": {
      "application/vnd.databricks.v1+output": {
       "arguments": {},
       "data": "\u001b[0;31m---------------------------------------------------------------------------\u001b[0m\n\u001b[0;31mNameError\u001b[0m                                 Traceback (most recent call last)\nFile \u001b[0;32m<command-4403274775721682>:1\u001b[0m\n\u001b[0;32m----> 1\u001b[0m resto_data\u001b[38;5;241m.\u001b[39mselect((\u001b[38;5;124m\"\u001b[39m\u001b[38;5;124m*\u001b[39m\u001b[38;5;124m\"\u001b[39m),\u001b[43mexplode\u001b[49m(\u001b[38;5;124m\"\u001b[39m\u001b[38;5;124mrestaurants\u001b[39m\u001b[38;5;124m\"\u001b[39m)\u001b[38;5;241m.\u001b[39malias(\u001b[38;5;124m\"\u001b[39m\u001b[38;5;124mnew_restaurants\u001b[39m\u001b[38;5;124m\"\u001b[39m))\n\n\u001b[0;31mNameError\u001b[0m: name 'explode' is not defined",
       "errorSummary": "<span class='ansi-red-fg'>NameError</span>: name 'explode' is not defined",
       "errorTraceType": "ansi",
       "metadata": {},
       "type": "ipynbError"
      }
     },
     "output_type": "display_data"
    }
   ],
   "source": [
    "resto_data.select((\"*\"),explode(\"restaurants\").alias(\"new_restaurants\"))"
   ]
  },
  {
   "cell_type": "code",
   "execution_count": 0,
   "metadata": {
    "application/vnd.databricks.v1+cell": {
     "cellMetadata": {
      "byteLimit": 2048000,
      "rowLimit": 10000
     },
     "inputWidgets": {},
     "nuid": "ac883d3c-c982-4db0-bf50-34351af7fb5e",
     "showTitle": false,
     "tableResultSettingsMap": {},
     "title": ""
    }
   },
   "outputs": [
    {
     "name": "stdout",
     "output_type": "stream",
     "text": [
      "Out[8]: DataFrame[code: bigint, message: string, restaurants: array<struct<restaurant:struct<R:struct<res_id:bigint>,apikey:string,average_cost_for_two:bigint,cuisines:string,currency:string,deeplink:string,establishment_types:array<string>,events_url:string,featured_image:string,has_online_delivery:bigint,has_table_booking:bigint,id:string,is_delivering_now:bigint,location:struct<address:string,city:string,city_id:bigint,country_id:bigint,latitude:string,locality:string,locality_verbose:string,longitude:string,zipcode:string>,menu_url:string,name:string,offers:array<string>,photos_url:string,price_range:bigint,switch_to_order_menu:bigint,thumb:string,url:string,user_rating:struct<aggregate_rating:string,rating_color:string,rating_text:string,votes:string>>>>, results_found: bigint, results_shown: bigint, results_start: string, status: string, new_restaurants: struct<restaurant:struct<R:struct<res_id:bigint>,apikey:string,average_cost_for_two:bigint,cuisines:string,currency:string,deeplink:string,establishment_types:array<string>,events_url:string,featured_image:string,has_online_delivery:bigint,has_table_booking:bigint,id:string,is_delivering_now:bigint,location:struct<address:string,city:string,city_id:bigint,country_id:bigint,latitude:string,locality:string,locality_verbose:string,longitude:string,zipcode:string>,menu_url:string,name:string,offers:array<string>,photos_url:string,price_range:bigint,switch_to_order_menu:bigint,thumb:string,url:string,user_rating:struct<aggregate_rating:string,rating_color:string,rating_text:string,votes:string>>>]"
     ]
    }
   ],
   "source": [
    "from pyspark.sql.functions import *\n",
    "from pyspark.sql.types import *\n",
    "resto_data.select((\"*\"),explode(\"restaurants\").alias(\"new_restaurants\"))"
   ]
  },
  {
   "cell_type": "code",
   "execution_count": 0,
   "metadata": {
    "application/vnd.databricks.v1+cell": {
     "cellMetadata": {
      "byteLimit": 2048000,
      "rowLimit": 10000
     },
     "inputWidgets": {},
     "nuid": "52ac8e5e-9c5f-41fd-a311-ddd578813937",
     "showTitle": false,
     "tableResultSettingsMap": {},
     "title": ""
    }
   },
   "outputs": [
    {
     "name": "stdout",
     "output_type": "stream",
     "text": [
      "root\n",
      " |-- code: long (nullable = true)\n",
      " |-- message: string (nullable = true)\n",
      " |-- restaurants: array (nullable = true)\n",
      " |    |-- element: struct (containsNull = true)\n",
      " |    |    |-- restaurant: struct (nullable = true)\n",
      " |    |    |    |-- R: struct (nullable = true)\n",
      " |    |    |    |    |-- res_id: long (nullable = true)\n",
      " |    |    |    |-- apikey: string (nullable = true)\n",
      " |    |    |    |-- average_cost_for_two: long (nullable = true)\n",
      " |    |    |    |-- cuisines: string (nullable = true)\n",
      " |    |    |    |-- currency: string (nullable = true)\n",
      " |    |    |    |-- deeplink: string (nullable = true)\n",
      " |    |    |    |-- establishment_types: array (nullable = true)\n",
      " |    |    |    |    |-- element: string (containsNull = true)\n",
      " |    |    |    |-- events_url: string (nullable = true)\n",
      " |    |    |    |-- featured_image: string (nullable = true)\n",
      " |    |    |    |-- has_online_delivery: long (nullable = true)\n",
      " |    |    |    |-- has_table_booking: long (nullable = true)\n",
      " |    |    |    |-- id: string (nullable = true)\n",
      " |    |    |    |-- is_delivering_now: long (nullable = true)\n",
      " |    |    |    |-- location: struct (nullable = true)\n",
      " |    |    |    |    |-- address: string (nullable = true)\n",
      " |    |    |    |    |-- city: string (nullable = true)\n",
      " |    |    |    |    |-- city_id: long (nullable = true)\n",
      " |    |    |    |    |-- country_id: long (nullable = true)\n",
      " |    |    |    |    |-- latitude: string (nullable = true)\n",
      " |    |    |    |    |-- locality: string (nullable = true)\n",
      " |    |    |    |    |-- locality_verbose: string (nullable = true)\n",
      " |    |    |    |    |-- longitude: string (nullable = true)\n",
      " |    |    |    |    |-- zipcode: string (nullable = true)\n",
      " |    |    |    |-- menu_url: string (nullable = true)\n",
      " |    |    |    |-- name: string (nullable = true)\n",
      " |    |    |    |-- offers: array (nullable = true)\n",
      " |    |    |    |    |-- element: string (containsNull = true)\n",
      " |    |    |    |-- photos_url: string (nullable = true)\n",
      " |    |    |    |-- price_range: long (nullable = true)\n",
      " |    |    |    |-- switch_to_order_menu: long (nullable = true)\n",
      " |    |    |    |-- thumb: string (nullable = true)\n",
      " |    |    |    |-- url: string (nullable = true)\n",
      " |    |    |    |-- user_rating: struct (nullable = true)\n",
      " |    |    |    |    |-- aggregate_rating: string (nullable = true)\n",
      " |    |    |    |    |-- rating_color: string (nullable = true)\n",
      " |    |    |    |    |-- rating_text: string (nullable = true)\n",
      " |    |    |    |    |-- votes: string (nullable = true)\n",
      " |-- results_found: long (nullable = true)\n",
      " |-- results_shown: long (nullable = true)\n",
      " |-- results_start: string (nullable = true)\n",
      " |-- status: string (nullable = true)\n",
      " |-- new_restaurants: struct (nullable = true)\n",
      " |    |-- restaurant: struct (nullable = true)\n",
      " |    |    |-- R: struct (nullable = true)\n",
      " |    |    |    |-- res_id: long (nullable = true)\n",
      " |    |    |-- apikey: string (nullable = true)\n",
      " |    |    |-- average_cost_for_two: long (nullable = true)\n",
      " |    |    |-- cuisines: string (nullable = true)\n",
      " |    |    |-- currency: string (nullable = true)\n",
      " |    |    |-- deeplink: string (nullable = true)\n",
      " |    |    |-- establishment_types: array (nullable = true)\n",
      " |    |    |    |-- element: string (containsNull = true)\n",
      " |    |    |-- events_url: string (nullable = true)\n",
      " |    |    |-- featured_image: string (nullable = true)\n",
      " |    |    |-- has_online_delivery: long (nullable = true)\n",
      " |    |    |-- has_table_booking: long (nullable = true)\n",
      " |    |    |-- id: string (nullable = true)\n",
      " |    |    |-- is_delivering_now: long (nullable = true)\n",
      " |    |    |-- location: struct (nullable = true)\n",
      " |    |    |    |-- address: string (nullable = true)\n",
      " |    |    |    |-- city: string (nullable = true)\n",
      " |    |    |    |-- city_id: long (nullable = true)\n",
      " |    |    |    |-- country_id: long (nullable = true)\n",
      " |    |    |    |-- latitude: string (nullable = true)\n",
      " |    |    |    |-- locality: string (nullable = true)\n",
      " |    |    |    |-- locality_verbose: string (nullable = true)\n",
      " |    |    |    |-- longitude: string (nullable = true)\n",
      " |    |    |    |-- zipcode: string (nullable = true)\n",
      " |    |    |-- menu_url: string (nullable = true)\n",
      " |    |    |-- name: string (nullable = true)\n",
      " |    |    |-- offers: array (nullable = true)\n",
      " |    |    |    |-- element: string (containsNull = true)\n",
      " |    |    |-- photos_url: string (nullable = true)\n",
      " |    |    |-- price_range: long (nullable = true)\n",
      " |    |    |-- switch_to_order_menu: long (nullable = true)\n",
      " |    |    |-- thumb: string (nullable = true)\n",
      " |    |    |-- url: string (nullable = true)\n",
      " |    |    |-- user_rating: struct (nullable = true)\n",
      " |    |    |    |-- aggregate_rating: string (nullable = true)\n",
      " |    |    |    |-- rating_color: string (nullable = true)\n",
      " |    |    |    |-- rating_text: string (nullable = true)\n",
      " |    |    |    |-- votes: string (nullable = true)\n",
      "\n"
     ]
    }
   ],
   "source": [
    "resto_data.select((\"*\"),explode(\"restaurants\").alias(\"new_restaurants\")).printSchema()"
   ]
  },
  {
   "cell_type": "code",
   "execution_count": 0,
   "metadata": {
    "application/vnd.databricks.v1+cell": {
     "cellMetadata": {
      "byteLimit": 2048000,
      "rowLimit": 10000
     },
     "inputWidgets": {},
     "nuid": "079128e5-f2a2-466d-8482-772279d5d553",
     "showTitle": false,
     "tableResultSettingsMap": {},
     "title": ""
    }
   },
   "outputs": [
    {
     "name": "stdout",
     "output_type": "stream",
     "text": [
      "root\n",
      " |-- code: long (nullable = true)\n",
      " |-- message: string (nullable = true)\n",
      " |-- results_found: long (nullable = true)\n",
      " |-- results_shown: long (nullable = true)\n",
      " |-- results_start: string (nullable = true)\n",
      " |-- status: string (nullable = true)\n",
      " |-- new_restaurants: struct (nullable = true)\n",
      " |    |-- restaurant: struct (nullable = true)\n",
      " |    |    |-- R: struct (nullable = true)\n",
      " |    |    |    |-- res_id: long (nullable = true)\n",
      " |    |    |-- apikey: string (nullable = true)\n",
      " |    |    |-- average_cost_for_two: long (nullable = true)\n",
      " |    |    |-- cuisines: string (nullable = true)\n",
      " |    |    |-- currency: string (nullable = true)\n",
      " |    |    |-- deeplink: string (nullable = true)\n",
      " |    |    |-- establishment_types: array (nullable = true)\n",
      " |    |    |    |-- element: string (containsNull = true)\n",
      " |    |    |-- events_url: string (nullable = true)\n",
      " |    |    |-- featured_image: string (nullable = true)\n",
      " |    |    |-- has_online_delivery: long (nullable = true)\n",
      " |    |    |-- has_table_booking: long (nullable = true)\n",
      " |    |    |-- id: string (nullable = true)\n",
      " |    |    |-- is_delivering_now: long (nullable = true)\n",
      " |    |    |-- location: struct (nullable = true)\n",
      " |    |    |    |-- address: string (nullable = true)\n",
      " |    |    |    |-- city: string (nullable = true)\n",
      " |    |    |    |-- city_id: long (nullable = true)\n",
      " |    |    |    |-- country_id: long (nullable = true)\n",
      " |    |    |    |-- latitude: string (nullable = true)\n",
      " |    |    |    |-- locality: string (nullable = true)\n",
      " |    |    |    |-- locality_verbose: string (nullable = true)\n",
      " |    |    |    |-- longitude: string (nullable = true)\n",
      " |    |    |    |-- zipcode: string (nullable = true)\n",
      " |    |    |-- menu_url: string (nullable = true)\n",
      " |    |    |-- name: string (nullable = true)\n",
      " |    |    |-- offers: array (nullable = true)\n",
      " |    |    |    |-- element: string (containsNull = true)\n",
      " |    |    |-- photos_url: string (nullable = true)\n",
      " |    |    |-- price_range: long (nullable = true)\n",
      " |    |    |-- switch_to_order_menu: long (nullable = true)\n",
      " |    |    |-- thumb: string (nullable = true)\n",
      " |    |    |-- url: string (nullable = true)\n",
      " |    |    |-- user_rating: struct (nullable = true)\n",
      " |    |    |    |-- aggregate_rating: string (nullable = true)\n",
      " |    |    |    |-- rating_color: string (nullable = true)\n",
      " |    |    |    |-- rating_text: string (nullable = true)\n",
      " |    |    |    |-- votes: string (nullable = true)\n",
      "\n"
     ]
    }
   ],
   "source": [
    "resto_data.select((\"*\"),explode(\"restaurants\").alias(\"new_restaurants\")).drop(\"restaurants\").printSchema()"
   ]
  },
  {
   "cell_type": "code",
   "execution_count": 0,
   "metadata": {
    "application/vnd.databricks.v1+cell": {
     "cellMetadata": {},
     "inputWidgets": {},
     "nuid": "e914846d-391a-42e6-928a-ac429c8533bb",
     "showTitle": false,
     "tableResultSettingsMap": {},
     "title": ""
    }
   },
   "outputs": [],
   "source": [
    "#\"events_url\",\"deeplink\",\"events_url\",\"featured_image\",\"price_range\",\"price_range\",\"location\",\"address\",\"city\",\"latitude\",\"locality\",\"longitude\""
   ]
  },
  {
   "cell_type": "code",
   "execution_count": 0,
   "metadata": {
    "application/vnd.databricks.v1+cell": {
     "cellMetadata": {
      "byteLimit": 2048000,
      "rowLimit": 10000
     },
     "inputWidgets": {},
     "nuid": "0547f5ef-339b-4429-9e36-61cd6f290c1e",
     "showTitle": false,
     "tableResultSettingsMap": {},
     "title": ""
    }
   },
   "outputs": [
    {
     "name": "stdout",
     "output_type": "stream",
     "text": [
      "+----+-------+-------------+-------------+-------------+------+--------------------+\n",
      "|code|message|results_found|results_shown|results_start|status|     new_restaurants|\n",
      "+----+-------+-------------+-------------+-------------+------+--------------------+\n",
      "|null|   null|         6835|           20|            1|  null|{{{17066603}, b90...|\n",
      "|null|   null|         6835|           20|            1|  null|{{{17059541}, b90...|\n",
      "|null|   null|         6835|           20|            1|  null|{{{17064405}, b90...|\n",
      "|null|   null|         6835|           20|            1|  null|{{{17057797}, b90...|\n",
      "|null|   null|         6835|           20|            1|  null|{{{17057591}, b90...|\n",
      "|null|   null|         6835|           20|            1|  null|{{{17064266}, b90...|\n",
      "|null|   null|         6835|           20|            1|  null|{{{17060516}, b90...|\n",
      "|null|   null|         6835|           20|            1|  null|{{{17060320}, b90...|\n",
      "|null|   null|         6835|           20|            1|  null|{{{17059060}, b90...|\n",
      "|null|   null|         6835|           20|            1|  null|{{{17059012}, b90...|\n",
      "|null|   null|         6835|           20|            1|  null|{{{17060869}, b90...|\n",
      "|null|   null|         6835|           20|            1|  null|{{{17061231}, b90...|\n",
      "|null|   null|         6835|           20|            1|  null|{{{17058534}, b90...|\n",
      "|null|   null|         6835|           20|            1|  null|{{{17057925}, b90...|\n",
      "|null|   null|         6835|           20|            1|  null|{{{17064031}, b90...|\n",
      "|null|   null|         6835|           20|            1|  null|{{{17061237}, b90...|\n",
      "|null|   null|         6835|           20|            1|  null|{{{17061253}, b90...|\n",
      "|null|   null|         6835|           20|            1|  null|{{{17061296}, b90...|\n",
      "|null|   null|         6835|           20|            1|  null|{{{17061205}, b90...|\n",
      "|null|   null|         6835|           20|            1|  null|{{{17057397}, b90...|\n",
      "+----+-------+-------------+-------------+-------------+------+--------------------+\n",
      "only showing top 20 rows\n",
      "\n"
     ]
    }
   ],
   "source": [
    "resto_data.select((\"*\"),explode(\"restaurants\").alias(\"new_restaurants\")).drop(\"restaurants\").show()"
   ]
  },
  {
   "cell_type": "code",
   "execution_count": 0,
   "metadata": {
    "application/vnd.databricks.v1+cell": {
     "cellMetadata": {
      "byteLimit": 2048000,
      "rowLimit": 10000
     },
     "inputWidgets": {},
     "nuid": "07c525bf-1995-408d-a62c-68f4e8ad5f94",
     "showTitle": false,
     "tableResultSettingsMap": {},
     "title": ""
    }
   },
   "outputs": [
    {
     "name": "stdout",
     "output_type": "stream",
     "text": [
      "+----+-------+-------------+-------------+-------------+------+--------------------+\n",
      "|code|message|results_found|results_shown|results_start|status|     new_restaurants|\n",
      "+----+-------+-------------+-------------+-------------+------+--------------------+\n",
      "|null|   null|         6835|           20|            1|  null|{{{17066603}, b90...|\n",
      "|null|   null|         6835|           20|            1|  null|{{{17059541}, b90...|\n",
      "|null|   null|         6835|           20|            1|  null|{{{17064405}, b90...|\n",
      "|null|   null|         6835|           20|            1|  null|{{{17057797}, b90...|\n",
      "|null|   null|         6835|           20|            1|  null|{{{17057591}, b90...|\n",
      "|null|   null|         6835|           20|            1|  null|{{{17064266}, b90...|\n",
      "|null|   null|         6835|           20|            1|  null|{{{17060516}, b90...|\n",
      "|null|   null|         6835|           20|            1|  null|{{{17060320}, b90...|\n",
      "|null|   null|         6835|           20|            1|  null|{{{17059060}, b90...|\n",
      "|null|   null|         6835|           20|            1|  null|{{{17059012}, b90...|\n",
      "|null|   null|         6835|           20|            1|  null|{{{17060869}, b90...|\n",
      "|null|   null|         6835|           20|            1|  null|{{{17061231}, b90...|\n",
      "|null|   null|         6835|           20|            1|  null|{{{17058534}, b90...|\n",
      "|null|   null|         6835|           20|            1|  null|{{{17057925}, b90...|\n",
      "|null|   null|         6835|           20|            1|  null|{{{17064031}, b90...|\n",
      "|null|   null|         6835|           20|            1|  null|{{{17061237}, b90...|\n",
      "|null|   null|         6835|           20|            1|  null|{{{17061253}, b90...|\n",
      "|null|   null|         6835|           20|            1|  null|{{{17061296}, b90...|\n",
      "|null|   null|         6835|           20|            1|  null|{{{17061205}, b90...|\n",
      "|null|   null|         6835|           20|            1|  null|{{{17057397}, b90...|\n",
      "+----+-------+-------------+-------------+-------------+------+--------------------+\n",
      "only showing top 20 rows\n",
      "\n"
     ]
    }
   ],
   "source": [
    "resto_data.select(\"*\",explode(\"restaurants\").alias(\"new_restaurants\")).drop(\"restaurants\").show()"
   ]
  },
  {
   "cell_type": "code",
   "execution_count": 0,
   "metadata": {
    "application/vnd.databricks.v1+cell": {
     "cellMetadata": {
      "byteLimit": 2048000,
      "rowLimit": 10000
     },
     "inputWidgets": {},
     "nuid": "716eb5fb-840c-45ce-840e-49ac43ca974f",
     "showTitle": false,
     "tableResultSettingsMap": {},
     "title": ""
    }
   },
   "outputs": [
    {
     "name": "stdout",
     "output_type": "stream",
     "text": [
      "+----+-------+-------------+-------------+-------------+------+---------------+------+-----------------------+----+\n",
      "|code|message|results_found|results_shown|results_start|status|new_restaurants|res_id|establishment_types_new|name|\n",
      "+----+-------+-------------+-------------+-------------+------+---------------+------+-----------------------+----+\n",
      "+----+-------+-------------+-------------+-------------+------+---------------+------+-----------------------+----+\n",
      "\n"
     ]
    }
   ],
   "source": [
    "#here deu to null values and not using use of explode_outer we get empty table\n",
    "resto_data.select((\"*\"),explode(\"restaurants\").alias(\"new_restaurants\"))\\\n",
    "    .drop(\"restaurants\")\\\n",
    "        .select(\"*\",\"new_restaurants.restaurant.R.res_id\"\n",
    "                ,explode(\"new_restaurants.restaurant.establishment_types\").alias(\"establishment_types_new\"),\"new_restaurants.restaurant.name\").show()"
   ]
  },
  {
   "cell_type": "code",
   "execution_count": 0,
   "metadata": {
    "application/vnd.databricks.v1+cell": {
     "cellMetadata": {
      "byteLimit": 2048000,
      "rowLimit": 10000
     },
     "inputWidgets": {},
     "nuid": "2b5ebe57-7c99-42d7-896c-e3e42f8c40ca",
     "showTitle": false,
     "tableResultSettingsMap": {},
     "title": ""
    }
   },
   "outputs": [
    {
     "name": "stdout",
     "output_type": "stream",
     "text": [
      "+----+-------+-------------+-------------+-------------+------+---------------+------+-----------------------+----+--------+--------+\n",
      "|code|message|results_found|results_shown|results_start|status|new_restaurants|res_id|establishment_types_new|name|cuisines|currency|\n",
      "+----+-------+-------------+-------------+-------------+------+---------------+------+-----------------------+----+--------+--------+\n",
      "+----+-------+-------------+-------------+-------------+------+---------------+------+-----------------------+----+--------+--------+\n",
      "\n"
     ]
    }
   ],
   "source": [
    "\n",
    "resto_data.select((\"*\"),explode(\"restaurants\").alias(\"new_restaurants\"))\\\n",
    "    .drop(\"restaurants\")\\\n",
    "        .select(\"*\",\"new_restaurants.restaurant.R.res_id\"\n",
    "                ,explode(\"new_restaurants.restaurant.establishment_types\").alias(\"establishment_types_new\"),\"new_restaurants.restaurant.name\",\"new_restaurants.restaurant.cuisines\",\"new_restaurants.restaurant.currency\").show(truncate=False)"
   ]
  },
  {
   "cell_type": "code",
   "execution_count": 0,
   "metadata": {
    "application/vnd.databricks.v1+cell": {
     "cellMetadata": {
      "byteLimit": 2048000,
      "rowLimit": 10000
     },
     "inputWidgets": {},
     "nuid": "1a77c8e4-1394-41af-8fe5-d41627afbfc1",
     "showTitle": false,
     "tableResultSettingsMap": {},
     "title": ""
    }
   },
   "outputs": [
    {
     "name": "stdout",
     "output_type": "stream",
     "text": [
      "+----+-------+-------------+-------------+-------------+------+----------------------------------------------------------------------------------------------------------------------------------------------------------------------------------------------------------------------------------------------------------------------------------------------------------------------------------------------------------------------------------------------------------------------------------------------------------------------------------------------------------------------------------------------------------------------------------------------------------------------------------------------------------------------------------------------------------------------------------------------------------------------------------------------------------------------------------------------------------------------------------------------------------------------------------------------------------------------------------------------------------------------------------------------------------------------------------------------------------------------------------------------------------------------------------------------------------------------------------------------------------------------------------+--------+-----------------------+------------------------------------+---------------------------------+--------+\n",
      "|code|message|results_found|results_shown|results_start|status|new_restaurants                                                                                                                                                                                                                                                                                                                                                                                                                                                                                                                                                                                                                                                                                                                                                                                                                                                                                                                                                                                                                                                                                                                                                                                                                                                                   |res_id  |establishment_types_new|name                                |cuisines                         |currency|\n",
      "+----+-------+-------------+-------------+-------------+------+----------------------------------------------------------------------------------------------------------------------------------------------------------------------------------------------------------------------------------------------------------------------------------------------------------------------------------------------------------------------------------------------------------------------------------------------------------------------------------------------------------------------------------------------------------------------------------------------------------------------------------------------------------------------------------------------------------------------------------------------------------------------------------------------------------------------------------------------------------------------------------------------------------------------------------------------------------------------------------------------------------------------------------------------------------------------------------------------------------------------------------------------------------------------------------------------------------------------------------------------------------------------------------+--------+-----------------------+------------------------------------+---------------------------------+--------+\n",
      "|null|null   |6835         |20           |1            |null  |{{{17066603}, b90e6a8c738410315a20c449fe2eb1b1, 25, Southern, Cajun, Soul Food, $, zomato://restaurant/17066603, [], https://www.zomato.com/orlando/the-coop-winter-park/events#tabtop?utm_source=api_basic_user&utm_medium=api&utm_campaign=v2.1, https://b.zmtcdn.com/data/pictures/3/17066603/3002ed08cd3035bae040503e26b19f93_featured_v2.jpg, 0, 0, 17066603, 0, {610 W Morse Boulevard, Winter Park, FL 32789, Orlando, 601, 216, 28.5973660000, Winter Park, Winter Park, Orlando, -81.3572190000, 32789}, https://www.zomato.com/orlando/the-coop-winter-park/menu?utm_source=api_basic_user&utm_medium=api&utm_campaign=v2.1&openSwipeBox=menu&showMinimal=1#tabtop, The Coop, [], https://www.zomato.com/orlando/the-coop-winter-park/photos?utm_source=api_basic_user&utm_medium=api&utm_campaign=v2.1#tabtop, 2, 0, https://b.zmtcdn.com/data/pictures/3/17066603/3002ed08cd3035bae040503e26b19f93_featured_v2.jpg, https://www.zomato.com/orlando/the-coop-winter-park?utm_source=api_basic_user&utm_medium=api&utm_campaign=v2.1, {3.6, 9ACD32, Good, 432}}}                                                                                                                                                                                                        |17066603|null                   |The Coop                            |Southern, Cajun, Soul Food       |$       |\n",
      "|null|null   |6835         |20           |1            |null  |{{{17059541}, b90e6a8c738410315a20c449fe2eb1b1, 50, Italian, $, zomato://restaurant/17059541, [], https://www.zomato.com/orlando/maggianos-little-italy-i-drive-universal/events#tabtop?utm_source=api_basic_user&utm_medium=api&utm_campaign=v2.1, https://b.zmtcdn.com/data/pictures/1/17059541/50ead37fbc2663d80400c56da8502148_featured_v2.jpg, 0, 0, 17059541, 0, {9101 International Drive,Orlando, FL 32819, Orlando, 601, 216, 28.4332350000, I-Drive/Universal, I-Drive/Universal, Orlando, -81.4714470000, 32819}, https://www.zomato.com/orlando/maggianos-little-italy-i-drive-universal/menu?utm_source=api_basic_user&utm_medium=api&utm_campaign=v2.1&openSwipeBox=menu&showMinimal=1#tabtop, Maggiano's Little Italy, [], https://www.zomato.com/orlando/maggianos-little-italy-i-drive-universal/photos?utm_source=api_basic_user&utm_medium=api&utm_campaign=v2.1#tabtop, 4, 0, https://b.zmtcdn.com/data/pictures/1/17059541/50ead37fbc2663d80400c56da8502148_featured_v2.jpg, https://www.zomato.com/orlando/maggianos-little-italy-i-drive-universal?utm_source=api_basic_user&utm_medium=api&utm_campaign=v2.1, {4.4, 5BA829, Very Good, 886}}}                                                                                                             |17059541|null                   |Maggiano's Little Italy             |Italian                          |$       |\n",
      "|null|null   |6835         |20           |1            |null  |{{{17064405}, b90e6a8c738410315a20c449fe2eb1b1, 10, Asian, Latin American, Vegetarian, $, zomato://restaurant/17064405, [], https://www.zomato.com/orlando/tako-cheena-by-pom-pom-orlando/events#tabtop?utm_source=api_basic_user&utm_medium=api&utm_campaign=v2.1, https://b.zmtcdn.com/data/pictures/5/17064405/d9046cbf96ed14c27ccb43d67b2d9e14_featured_v2.jpg, 0, 0, 17064405, 0, {932 North Mills Avenue, Orlando, FL 32803, Orlando, 601, 216, 28.5578450000, Mills 50, Mills 50, Orlando, -81.3645470000, 32803}, https://www.zomato.com/orlando/tako-cheena-by-pom-pom-orlando/menu?utm_source=api_basic_user&utm_medium=api&utm_campaign=v2.1&openSwipeBox=menu&showMinimal=1#tabtop, Tako Cheena by Pom Pom, [], https://www.zomato.com/orlando/tako-cheena-by-pom-pom-orlando/photos?utm_source=api_basic_user&utm_medium=api&utm_campaign=v2.1#tabtop, 1, 0, https://b.zmtcdn.com/data/pictures/5/17064405/d9046cbf96ed14c27ccb43d67b2d9e14_featured_v2.jpg, https://www.zomato.com/orlando/tako-cheena-by-pom-pom-orlando?utm_source=api_basic_user&utm_medium=api&utm_campaign=v2.1, {4.4, 5BA829, Very Good, 570}}}                                                                                                                                               |17064405|null                   |Tako Cheena by Pom Pom              |Asian, Latin American, Vegetarian|$       |\n",
      "|null|null   |6835         |20           |1            |null  |{{{17057797}, b90e6a8c738410315a20c449fe2eb1b1, 40, Mediterranean, Turkish, $, zomato://restaurant/17057797, [], https://www.zomato.com/orlando/bosphorous-turkish-cuisine-winter-park/events#tabtop?utm_source=api_basic_user&utm_medium=api&utm_campaign=v2.1, https://b.zmtcdn.com/data/pictures/7/17057797/6504549ba9a80220f1d891b4fc0f0e72_featured_v2.jpg, 0, 0, 17057797, 0, {108 S Park Ave, Winter Park, FL 32789, Orlando, 601, 216, 28.5976271000, Winter Park, Winter Park, Orlando, -81.3508344000, 32789}, https://www.zomato.com/orlando/bosphorous-turkish-cuisine-winter-park/menu?utm_source=api_basic_user&utm_medium=api&utm_campaign=v2.1&openSwipeBox=menu&showMinimal=1#tabtop, Bosphorous Turkish Cuisine, [], https://www.zomato.com/orlando/bosphorous-turkish-cuisine-winter-park/photos?utm_source=api_basic_user&utm_medium=api&utm_campaign=v2.1#tabtop, 3, 0, https://b.zmtcdn.com/data/pictures/7/17057797/6504549ba9a80220f1d891b4fc0f0e72_featured_v2.jpg, https://www.zomato.com/orlando/bosphorous-turkish-cuisine-winter-park?utm_source=api_basic_user&utm_medium=api&utm_campaign=v2.1, {4.2, 5BA829, Very Good, 568}}}                                                                                                                    |17057797|null                   |Bosphorous Turkish Cuisine          |Mediterranean, Turkish           |$       |\n",
      "|null|null   |6835         |20           |1            |null  |{{{17057591}, b90e6a8c738410315a20c449fe2eb1b1, 45, Caribbean, $, zomato://restaurant/17057591, [], https://www.zomato.com/orlando/bahama-breeze-island-grille-1-orlando/events#tabtop?utm_source=api_basic_user&utm_medium=api&utm_campaign=v2.1, https://b.zmtcdn.com/data/pictures/1/17057591/376e721c13fcd49348add84717eab67e_featured_v2.jpg, 0, 0, 17057591, 0, {8849 International Drive, Orlando, FL 32819, Orlando, 601, 216, 28.4370650000, I-Drive/Universal, I-Drive/Universal, Orlando, -81.4715260000, 32819}, https://www.zomato.com/orlando/bahama-breeze-island-grille-1-orlando/menu?utm_source=api_basic_user&utm_medium=api&utm_campaign=v2.1&openSwipeBox=menu&showMinimal=1#tabtop, Bahama Breeze Island Grille, [], https://www.zomato.com/orlando/bahama-breeze-island-grille-1-orlando/photos?utm_source=api_basic_user&utm_medium=api&utm_campaign=v2.1#tabtop, 3, 0, https://b.zmtcdn.com/data/pictures/1/17057591/376e721c13fcd49348add84717eab67e_featured_v2.jpg, https://www.zomato.com/orlando/bahama-breeze-island-grille-1-orlando?utm_source=api_basic_user&utm_medium=api&utm_campaign=v2.1, {4.3, 5BA829, Very Good, 910}}}                                                                                                                  |17057591|null                   |Bahama Breeze Island Grille         |Caribbean                        |$       |\n",
      "|null|null   |6835         |20           |1            |null  |{{{17064266}, b90e6a8c738410315a20c449fe2eb1b1, 35, Asian, Thai, $, zomato://restaurant/17064266, [], https://www.zomato.com/orlando/hawkers-asian-street-fare-mills-50/events#tabtop?utm_source=api_basic_user&utm_medium=api&utm_campaign=v2.1, https://b.zmtcdn.com/data/pictures/6/17064266/76b69fcbffb0870221b7f7232b03166f_featured_v2.jpg, 0, 0, 17064266, 0, {1103 N Mills Avenue, Orlando, FL 32803, Orlando, 601, 216, 28.5605050000, Mills 50, Mills 50, Orlando, -81.3643470000, 32803}, https://www.zomato.com/orlando/hawkers-asian-street-fare-mills-50/menu?utm_source=api_basic_user&utm_medium=api&utm_campaign=v2.1&openSwipeBox=menu&showMinimal=1#tabtop, Hawkers Asian Street Fare, [], https://www.zomato.com/orlando/hawkers-asian-street-fare-mills-50/photos?utm_source=api_basic_user&utm_medium=api&utm_campaign=v2.1#tabtop, 3, 0, https://b.zmtcdn.com/data/pictures/6/17064266/76b69fcbffb0870221b7f7232b03166f_featured_v2.jpg, https://www.zomato.com/orlando/hawkers-asian-street-fare-mills-50?utm_source=api_basic_user&utm_medium=api&utm_campaign=v2.1, {4.6, 3F7E00, Excellent, 1293}}}                                                                                                                                                    |17064266|null                   |Hawkers Asian Street Fare           |Asian, Thai                      |$       |\n",
      "|null|null   |6835         |20           |1            |null  |{{{17060516}, b90e6a8c738410315a20c449fe2eb1b1, 60, American, $, zomato://restaurant/17060516, [], https://www.zomato.com/orlando/seasons-52-fresh-grill-orlando/events#tabtop?utm_source=api_basic_user&utm_medium=api&utm_campaign=v2.1, https://b.zmtcdn.com/data/pictures/6/17060516/411c1bba0a117703e6e5f80f6752563c_featured_v2.jpg, 0, 0, 17060516, 0, {7700 West Sand Lake Road, Orlando, FL 32819, Orlando, 601, 216, 28.4481750000, Restaurant Row, Restaurant Row, Orlando, -81.4879780000, 32819}, https://www.zomato.com/orlando/seasons-52-fresh-grill-orlando/menu?utm_source=api_basic_user&utm_medium=api&utm_campaign=v2.1&openSwipeBox=menu&showMinimal=1#tabtop, Seasons 52 Fresh Grill, [], https://www.zomato.com/orlando/seasons-52-fresh-grill-orlando/photos?utm_source=api_basic_user&utm_medium=api&utm_campaign=v2.1#tabtop, 4, 0, https://b.zmtcdn.com/data/pictures/6/17060516/411c1bba0a117703e6e5f80f6752563c_featured_v2.jpg, https://www.zomato.com/orlando/seasons-52-fresh-grill-orlando?utm_source=api_basic_user&utm_medium=api&utm_campaign=v2.1, {4.4, 5BA829, Very Good, 1685}}}                                                                                                                                                         |17060516|null                   |Seasons 52 Fresh Grill              |American                         |$       |\n",
      "|null|null   |6835         |20           |1            |null  |{{{17060320}, b90e6a8c738410315a20c449fe2eb1b1, 50, Irish, $, zomato://restaurant/17060320, [], https://www.zomato.com/orlando/raglan-road-irish-pub-and-restaurant-disney-downtown-disney/events#tabtop?utm_source=api_basic_user&utm_medium=api&utm_campaign=v2.1, https://b.zmtcdn.com/data/pictures/0/17060320/ebfbbadf30dca1531c050e947739d603_featured_v2.jpg, 0, 0, 17060320, 0, {1640 E Buena Vista Drive, Lake Buena Vista, FL 32830, Orlando, 601, 216, 28.3713380000, Disney: Downtown Disney, Disney: Downtown Disney, Orlando, -81.5177250000, 32830}, https://www.zomato.com/orlando/raglan-road-irish-pub-and-restaurant-disney-downtown-disney/menu?utm_source=api_basic_user&utm_medium=api&utm_campaign=v2.1&openSwipeBox=menu&showMinimal=1#tabtop, Raglan Road Irish Pub and Restaurant, [], https://www.zomato.com/orlando/raglan-road-irish-pub-and-restaurant-disney-downtown-disney/photos?utm_source=api_basic_user&utm_medium=api&utm_campaign=v2.1#tabtop, 4, 0, https://b.zmtcdn.com/data/pictures/0/17060320/ebfbbadf30dca1531c050e947739d603_featured_v2.jpg, https://www.zomato.com/orlando/raglan-road-irish-pub-and-restaurant-disney-downtown-disney?utm_source=api_basic_user&utm_medium=api&utm_campaign=v2.1, {4.3, 5BA829, Very Good, 782}}}|17060320|null                   |Raglan Road Irish Pub and Restaurant|Irish                            |$       |\n",
      "|null|null   |6835         |20           |1            |null  |{{{17059060}, b90e6a8c738410315a20c449fe2eb1b1, 40, , $, zomato://restaurant/17059060, [], https://www.zomato.com/orlando/hillstone-winter-park/events#tabtop?utm_source=api_basic_user&utm_medium=api&utm_campaign=v2.1, https://b.zmtcdn.com/data/pictures/0/17059060/b0af51eb778682ea5c721f1b21c2a090_featured_v2.jpg, 0, 0, 17059060, 0, {215 South Orlando Avenue, Winter Park, FL 32789, Orlando, 601, 216, 28.5966820000, Winter Park, Winter Park, Orlando, -81.3652600000, 32789}, https://www.zomato.com/orlando/hillstone-winter-park/menu?utm_source=api_basic_user&utm_medium=api&utm_campaign=v2.1&openSwipeBox=menu&showMinimal=1#tabtop, Hillstone, [], https://www.zomato.com/orlando/hillstone-winter-park/photos?utm_source=api_basic_user&utm_medium=api&utm_campaign=v2.1#tabtop, 3, 0, https://b.zmtcdn.com/data/pictures/0/17059060/b0af51eb778682ea5c721f1b21c2a090_featured_v2.jpg, https://www.zomato.com/orlando/hillstone-winter-park?utm_source=api_basic_user&utm_medium=api&utm_campaign=v2.1, {4.4, 5BA829, Very Good, 1158}}}                                                                                                                                                                                                                    |17059060|null                   |Hillstone                           |                                 |$       |\n",
      "|null|null   |6835         |20           |1            |null  |{{{17059012}, b90e6a8c738410315a20c449fe2eb1b1, 40, German, $, zomato://restaurant/17059012, [], https://www.zomato.com/orlando/hollerbachs-willow-tree-café-sanford/events#tabtop?utm_source=api_basic_user&utm_medium=api&utm_campaign=v2.1, https://b.zmtcdn.com/data/pictures/2/17059012/0f6a19850329458778d121d6201a3eb1_featured_v2.jpg, 0, 0, 17059012, 0, {205 East 1st Street, Sanford, FL 32771, Orlando, 601, 216, 28.8116530000, Sanford, Sanford, Orlando, -81.2668710000, 32771}, https://www.zomato.com/orlando/hollerbachs-willow-tree-café-sanford/menu?utm_source=api_basic_user&utm_medium=api&utm_campaign=v2.1&openSwipeBox=menu&showMinimal=1#tabtop, Hollerbach's Willow Tree Café, [], https://www.zomato.com/orlando/hollerbachs-willow-tree-café-sanford/photos?utm_source=api_basic_user&utm_medium=api&utm_campaign=v2.1#tabtop, 3, 0, https://b.zmtcdn.com/data/pictures/2/17059012/0f6a19850329458778d121d6201a3eb1_featured_v2.jpg, https://www.zomato.com/orlando/hollerbachs-willow-tree-café-sanford?utm_source=api_basic_user&utm_medium=api&utm_campaign=v2.1, {4.8, 3F7E00, Excellent, 1699}}}                                                                                                                                               |17059012|null                   |Hollerbach's Willow Tree Café       |German                           |$       |\n",
      "|null|null   |6835         |20           |1            |null  |{{{17060869}, b90e6a8c738410315a20c449fe2eb1b1, 100, Brazilian, Steak, $, zomato://restaurant/17060869, [], https://www.zomato.com/orlando/texas-de-brazil-i-drive-universal/events#tabtop?utm_source=api_basic_user&utm_medium=api&utm_campaign=v2.1, https://b.zmtcdn.com/data/pictures/9/17060869/b61f8fe7abc9fca9b5ea32accb3d12b5_featured_v2.jpg, 0, 0, 17060869, 0, {5259 International Drive, Orlando, FL 32819, Orlando, 601, 216, 28.4676808000, I-Drive/Universal, I-Drive/Universal, Orlando, -81.4510725000, 32819}, https://www.zomato.com/orlando/texas-de-brazil-i-drive-universal/menu?utm_source=api_basic_user&utm_medium=api&utm_campaign=v2.1&openSwipeBox=menu&showMinimal=1#tabtop, Texas de Brazil, [], https://www.zomato.com/orlando/texas-de-brazil-i-drive-universal/photos?utm_source=api_basic_user&utm_medium=api&utm_campaign=v2.1#tabtop, 4, 0, https://b.zmtcdn.com/data/pictures/9/17060869/b61f8fe7abc9fca9b5ea32accb3d12b5_featured_v2.jpg, https://www.zomato.com/orlando/texas-de-brazil-i-drive-universal?utm_source=api_basic_user&utm_medium=api&utm_campaign=v2.1, {4.6, 3F7E00, Excellent, 2324}}}                                                                                                                                     |17060869|null                   |Texas de Brazil                     |Brazilian, Steak                 |$       |\n",
      "|null|null   |6835         |20           |1            |null  |{{{17061231}, b90e6a8c738410315a20c449fe2eb1b1, 40, Pub Food, $, zomato://restaurant/17061231, [], https://www.zomato.com/orlando/the-ravenous-pig-winter-park/events#tabtop?utm_source=api_basic_user&utm_medium=api&utm_campaign=v2.1, https://b.zmtcdn.com/data/pictures/1/17061231/05f9f181364ecc7dabaf60d38e357a2a_featured_v2.jpg, 0, 0, 17061231, 0, {565 W Fairbanks Avenue, Winter Park, FL 32789, Orlando, 601, 216, 28.5932970000, Winter Park, Winter Park, Orlando, -81.3560240000, 32789}, https://www.zomato.com/orlando/the-ravenous-pig-winter-park/menu?utm_source=api_basic_user&utm_medium=api&utm_campaign=v2.1&openSwipeBox=menu&showMinimal=1#tabtop, The Ravenous Pig, [], https://www.zomato.com/orlando/the-ravenous-pig-winter-park/photos?utm_source=api_basic_user&utm_medium=api&utm_campaign=v2.1#tabtop, 3, 0, https://b.zmtcdn.com/data/pictures/1/17061231/05f9f181364ecc7dabaf60d38e357a2a_featured_v2.jpg, https://www.zomato.com/orlando/the-ravenous-pig-winter-park?utm_source=api_basic_user&utm_medium=api&utm_campaign=v2.1, {4.4, 5BA829, Very Good, 1998}}}                                                                                                                                                                           |17061231|null                   |The Ravenous Pig                    |Pub Food                         |$       |\n",
      "|null|null   |6835         |20           |1            |null  |{{{17058534}, b90e6a8c738410315a20c449fe2eb1b1, 35, American, Sandwich, Salad, $, zomato://restaurant/17058534, [], https://www.zomato.com/orlando/earl-of-sandwich-disney-downtown-disney/events#tabtop?utm_source=api_basic_user&utm_medium=api&utm_campaign=v2.1, https://b.zmtcdn.com/data/pictures/4/17058534/5f583655ea7d74aa7b66b288b2a6e492_featured_v2.jpg, 0, 0, 17058534, 0, {1750 E Buena Vista Drive, Lake Buena Vista, FL 32830, Orlando, 601, 216, 28.3728580000, Disney: Downtown Disney, Disney: Downtown Disney, Orlando, -81.5146080000, 32830}, https://www.zomato.com/orlando/earl-of-sandwich-disney-downtown-disney/menu?utm_source=api_basic_user&utm_medium=api&utm_campaign=v2.1&openSwipeBox=menu&showMinimal=1#tabtop, Earl of Sandwich, [], https://www.zomato.com/orlando/earl-of-sandwich-disney-downtown-disney/photos?utm_source=api_basic_user&utm_medium=api&utm_campaign=v2.1#tabtop, 3, 0, https://b.zmtcdn.com/data/pictures/4/17058534/5f583655ea7d74aa7b66b288b2a6e492_featured_v2.jpg, https://www.zomato.com/orlando/earl-of-sandwich-disney-downtown-disney?utm_source=api_basic_user&utm_medium=api&utm_campaign=v2.1, {4.7, 3F7E00, Excellent, 1341}}}                                                                               |17058534|null                   |Earl of Sandwich                    |American, Sandwich, Salad        |$       |\n",
      "|null|null   |6835         |20           |1            |null  |{{{17057925}, b90e6a8c738410315a20c449fe2eb1b1, 40, New American, Tapas, $, zomato://restaurant/17057925, [], https://www.zomato.com/orlando/café-tu-tu-tango-orlando/events#tabtop?utm_source=api_basic_user&utm_medium=api&utm_campaign=v2.1, https://b.zmtcdn.com/data/pictures/5/17057925/4ce421a5fd7c1d8b1126bdf5a85356a5_featured_v2.jpg, 0, 0, 17057925, 0, {8625 International Drive, Orlando, FL 32819, Orlando, 601, 216, 28.4403440000, I-Drive/Universal, I-Drive/Universal, Orlando, -81.4699860000, 32819}, https://www.zomato.com/orlando/café-tu-tu-tango-orlando/menu?utm_source=api_basic_user&utm_medium=api&utm_campaign=v2.1&openSwipeBox=menu&showMinimal=1#tabtop, Café Tu Tu Tango, [], https://www.zomato.com/orlando/café-tu-tu-tango-orlando/photos?utm_source=api_basic_user&utm_medium=api&utm_campaign=v2.1#tabtop, 3, 0, https://b.zmtcdn.com/data/pictures/5/17057925/4ce421a5fd7c1d8b1126bdf5a85356a5_featured_v2.jpg, https://www.zomato.com/orlando/café-tu-tu-tango-orlando?utm_source=api_basic_user&utm_medium=api&utm_campaign=v2.1, {4.6, 3F7E00, Excellent, 1293}}}                                                                                                                                                                      |17057925|null                   |Café Tu Tu Tango                    |New American, Tapas              |$       |\n",
      "|null|null   |6835         |20           |1            |null  |{{{17064031}, b90e6a8c738410315a20c449fe2eb1b1, 25, Cajun, $, zomato://restaurant/17064031, [], https://www.zomato.com/orlando/tibbys-new-orleans-kitchen-winter-park/events#tabtop?utm_source=api_basic_user&utm_medium=api&utm_campaign=v2.1, https://b.zmtcdn.com/data/pictures/1/17064031/92f280390a1e0f2edc00459e658f4c8e_featured_v2.jpg, 0, 0, 17064031, 0, {2203 Aloma Avenue, Winter Park, FL 32792, Orlando, 601, 216, 28.6010880000, Winter Park, Winter Park, Orlando, -81.3226310000, 32792}, https://www.zomato.com/orlando/tibbys-new-orleans-kitchen-winter-park/menu?utm_source=api_basic_user&utm_medium=api&utm_campaign=v2.1&openSwipeBox=menu&showMinimal=1#tabtop, Tibby's New Orleans Kitchen, [], https://www.zomato.com/orlando/tibbys-new-orleans-kitchen-winter-park/photos?utm_source=api_basic_user&utm_medium=api&utm_campaign=v2.1#tabtop, 2, 0, https://b.zmtcdn.com/data/pictures/1/17064031/92f280390a1e0f2edc00459e658f4c8e_featured_v2.jpg, https://www.zomato.com/orlando/tibbys-new-orleans-kitchen-winter-park?utm_source=api_basic_user&utm_medium=api&utm_campaign=v2.1, {4.7, 3F7E00, Excellent, 1412}}}                                                                                                                                |17064031|null                   |Tibby's New Orleans Kitchen         |Cajun                            |$       |\n",
      "|null|null   |6835         |20           |1            |null  |{{{17061237}, b90e6a8c738410315a20c449fe2eb1b1, 40, Spanish, Tapas, $, zomato://restaurant/17061237, [], https://www.zomato.com/orlando/cevíche-tapas-bar-restaurant-orlando/events#tabtop?utm_source=api_basic_user&utm_medium=api&utm_campaign=v2.1, , 0, 0, 17061237, 0, {125 West Church Street, Orlando, FL 32801, Orlando, 601, 216, 28.5404320000, Church Street District, Church Street District, Orlando, -81.3810770000, 32801}, https://www.zomato.com/orlando/cevíche-tapas-bar-restaurant-orlando/menu?utm_source=api_basic_user&utm_medium=api&utm_campaign=v2.1&openSwipeBox=menu&showMinimal=1#tabtop, Cevíche Tapas Bar & Restaurant, [], https://www.zomato.com/orlando/cevíche-tapas-bar-restaurant-orlando/photos?utm_source=api_basic_user&utm_medium=api&utm_campaign=v2.1#tabtop, 3, 0, , https://www.zomato.com/orlando/cevíche-tapas-bar-restaurant-orlando?utm_source=api_basic_user&utm_medium=api&utm_campaign=v2.1, {4.4, 5BA829, Very Good, 981}}}                                                                                                                                                                                                                                                                                                  |17061237|null                   |Cevíche Tapas Bar & Restaurant      |Spanish, Tapas                   |$       |\n",
      "|null|null   |6835         |20           |1            |null  |{{{17061253}, b90e6a8c738410315a20c449fe2eb1b1, 25, American, Breakfast, Vegetarian, $, zomato://restaurant/17061253, [], https://www.zomato.com/orlando/ethos-vegan-kitchen-winter-park/events#tabtop?utm_source=api_basic_user&utm_medium=api&utm_campaign=v2.1, https://b.zmtcdn.com/data/pictures/3/17061253/037dcf8accff6de2307d72a82444b465_featured_v2.jpg, 0, 0, 17061253, 0, {601-B South New York Avenue, Winter Park, FL 32789, Orlando, 601, 216, 28.5928570000, Winter Park, Winter Park, Orlando, -81.3529210000, 32789}, https://www.zomato.com/orlando/ethos-vegan-kitchen-winter-park/menu?utm_source=api_basic_user&utm_medium=api&utm_campaign=v2.1&openSwipeBox=menu&showMinimal=1#tabtop, Ethos Vegan Kitchen, [], https://www.zomato.com/orlando/ethos-vegan-kitchen-winter-park/photos?utm_source=api_basic_user&utm_medium=api&utm_campaign=v2.1#tabtop, 2, 0, https://b.zmtcdn.com/data/pictures/3/17061253/037dcf8accff6de2307d72a82444b465_featured_v2.jpg, https://www.zomato.com/orlando/ethos-vegan-kitchen-winter-park?utm_source=api_basic_user&utm_medium=api&utm_campaign=v2.1, {4.4, 5BA829, Very Good, 797}}}                                                                                                                                 |17061253|null                   |Ethos Vegan Kitchen                 |American, Breakfast, Vegetarian  |$       |\n",
      "|null|null   |6835         |20           |1            |null  |{{{17061296}, b90e6a8c738410315a20c449fe2eb1b1, 25, American, Sandwich, Tea, $, zomato://restaurant/17061296, [], https://www.zomato.com/orlando/pom-poms-teahouse-and-sandwicheria-orlando/events#tabtop?utm_source=api_basic_user&utm_medium=api&utm_campaign=v2.1, https://b.zmtcdn.com/data/pictures/6/17061296/062fe0459e4e93bfed0e531995a69e67_featured_v2.jpg, 0, 0, 17061296, 0, {67 North Bumby Avenue, Orlando, FL 32803, Orlando, 601, 216, 28.5435710000, The Milk District, The Milk District, Orlando, -81.3514670000, 32803}, https://www.zomato.com/orlando/pom-poms-teahouse-and-sandwicheria-orlando/menu?utm_source=api_basic_user&utm_medium=api&utm_campaign=v2.1&openSwipeBox=menu&showMinimal=1#tabtop, Pom Pom's Teahouse and Sandwicheria, [], https://www.zomato.com/orlando/pom-poms-teahouse-and-sandwicheria-orlando/photos?utm_source=api_basic_user&utm_medium=api&utm_campaign=v2.1#tabtop, 2, 0, https://b.zmtcdn.com/data/pictures/6/17061296/062fe0459e4e93bfed0e531995a69e67_featured_v2.jpg, https://www.zomato.com/orlando/pom-poms-teahouse-and-sandwicheria-orlando?utm_source=api_basic_user&utm_medium=api&utm_campaign=v2.1, {4.9, 3F7E00, Excellent, 1457}}}                                                                          |17061296|null                   |Pom Pom's Teahouse and Sandwicheria |American, Sandwich, Tea          |$       |\n",
      "|null|null   |6835         |20           |1            |null  |{{{17061205}, b90e6a8c738410315a20c449fe2eb1b1, 35, American, BBQ, Sandwich, $, zomato://restaurant/17061205, [], https://www.zomato.com/orlando/yellow-dog-eats-windermere/events#tabtop?utm_source=api_basic_user&utm_medium=api&utm_campaign=v2.1, https://b.zmtcdn.com/data/pictures/5/17061205/c35c5b58d15d0956839a2220c6b59eee_featured_v2.jpg, 0, 0, 17061205, 0, {1236 Hempel Avenue,Gotha, FL 34786, Orlando, 601, 216, 28.5275920000, Windermere, Windermere, Orlando, -81.5229870000, 34786}, https://www.zomato.com/orlando/yellow-dog-eats-windermere/menu?utm_source=api_basic_user&utm_medium=api&utm_campaign=v2.1&openSwipeBox=menu&showMinimal=1#tabtop, Yellow Dog Eats, [], https://www.zomato.com/orlando/yellow-dog-eats-windermere/photos?utm_source=api_basic_user&utm_medium=api&utm_campaign=v2.1#tabtop, 3, 0, https://b.zmtcdn.com/data/pictures/5/17061205/c35c5b58d15d0956839a2220c6b59eee_featured_v2.jpg, https://www.zomato.com/orlando/yellow-dog-eats-windermere?utm_source=api_basic_user&utm_medium=api&utm_campaign=v2.1, {4.9, 3F7E00, Excellent, 1252}}}                                                                                                                                                                                  |17061205|null                   |Yellow Dog Eats                     |American, BBQ, Sandwich          |$       |\n",
      "|null|null   |6835         |20           |1            |null  |{{{17057397}, b90e6a8c738410315a20c449fe2eb1b1, 45, Hawaiian, $, zomato://restaurant/17057397, [], https://www.zomato.com/orlando/ohana-disney-world-area/events#tabtop?utm_source=api_basic_user&utm_medium=api&utm_campaign=v2.1, https://b.zmtcdn.com/data/pictures/7/17057397/1e5994e28b4dc97ee1e024c0b45d7245_featured_v2.jpg, 0, 0, 17057397, 0, {1600 Seven Seas Drive, Lake Buena Vista, FL 32830, Orlando, 601, 216, 28.4054370000, Disney World Area, Disney World Area, Orlando, -81.5852260000, 32830}, https://www.zomato.com/orlando/ohana-disney-world-area/menu?utm_source=api_basic_user&utm_medium=api&utm_campaign=v2.1&openSwipeBox=menu&showMinimal=1#tabtop, 'Ohana, [], https://www.zomato.com/orlando/ohana-disney-world-area/photos?utm_source=api_basic_user&utm_medium=api&utm_campaign=v2.1#tabtop, 3, 0, https://b.zmtcdn.com/data/pictures/7/17057397/1e5994e28b4dc97ee1e024c0b45d7245_featured_v2.jpg, https://www.zomato.com/orlando/ohana-disney-world-area?utm_source=api_basic_user&utm_medium=api&utm_campaign=v2.1, {4.5, 3F7E00, Excellent, 1151}}}                                                                                                                                                                                         |17057397|null                   |'Ohana                              |Hawaiian                         |$       |\n",
      "+----+-------+-------------+-------------+-------------+------+----------------------------------------------------------------------------------------------------------------------------------------------------------------------------------------------------------------------------------------------------------------------------------------------------------------------------------------------------------------------------------------------------------------------------------------------------------------------------------------------------------------------------------------------------------------------------------------------------------------------------------------------------------------------------------------------------------------------------------------------------------------------------------------------------------------------------------------------------------------------------------------------------------------------------------------------------------------------------------------------------------------------------------------------------------------------------------------------------------------------------------------------------------------------------------------------------------------------------------------------------------------------------------+--------+-----------------------+------------------------------------+---------------------------------+--------+\n",
      "only showing top 20 rows\n",
      "\n"
     ]
    }
   ],
   "source": [
    "\n",
    "resto_data.select((\"*\"),explode(\"restaurants\").alias(\"new_restaurants\"))\\\n",
    "    .drop(\"restaurants\")\\\n",
    "        .select(\"*\",\"new_restaurants.restaurant.R.res_id\"\n",
    "                ,explode_outer(\"new_restaurants.restaurant.establishment_types\").alias(\"establishment_types_new\"),\"new_restaurants.restaurant.name\",\"new_restaurants.restaurant.cuisines\",\"new_restaurants.restaurant.currency\").show(truncate=False)"
   ]
  },
  {
   "cell_type": "code",
   "execution_count": 0,
   "metadata": {
    "application/vnd.databricks.v1+cell": {
     "cellMetadata": {
      "byteLimit": 2048000,
      "rowLimit": 10000
     },
     "inputWidgets": {},
     "nuid": "3cb1c37a-37cf-4806-9037-bef5b3055128",
     "showTitle": false,
     "tableResultSettingsMap": {},
     "title": ""
    }
   },
   "outputs": [
    {
     "name": "stdout",
     "output_type": "stream",
     "text": [
      "+----+-------+-------------+-------------+-------------+------+--------------------+--------+-----------------------+--------------------+\n",
      "|code|message|results_found|results_shown|results_start|status|     new_restaurants|  res_id|establishment_types_new|                name|\n",
      "+----+-------+-------------+-------------+-------------+------+--------------------+--------+-----------------------+--------------------+\n",
      "|null|   null|         6835|           20|            1|  null|{{{17066603}, b90...|17066603|                   null|            The Coop|\n",
      "|null|   null|         6835|           20|            1|  null|{{{17059541}, b90...|17059541|                   null|Maggiano's Little...|\n",
      "|null|   null|         6835|           20|            1|  null|{{{17064405}, b90...|17064405|                   null|Tako Cheena by Po...|\n",
      "|null|   null|         6835|           20|            1|  null|{{{17057797}, b90...|17057797|                   null|Bosphorous Turkis...|\n",
      "|null|   null|         6835|           20|            1|  null|{{{17057591}, b90...|17057591|                   null|Bahama Breeze Isl...|\n",
      "|null|   null|         6835|           20|            1|  null|{{{17064266}, b90...|17064266|                   null|Hawkers Asian Str...|\n",
      "|null|   null|         6835|           20|            1|  null|{{{17060516}, b90...|17060516|                   null|Seasons 52 Fresh ...|\n",
      "|null|   null|         6835|           20|            1|  null|{{{17060320}, b90...|17060320|                   null|Raglan Road Irish...|\n",
      "|null|   null|         6835|           20|            1|  null|{{{17059060}, b90...|17059060|                   null|           Hillstone|\n",
      "|null|   null|         6835|           20|            1|  null|{{{17059012}, b90...|17059012|                   null|Hollerbach's Will...|\n",
      "|null|   null|         6835|           20|            1|  null|{{{17060869}, b90...|17060869|                   null|     Texas de Brazil|\n",
      "|null|   null|         6835|           20|            1|  null|{{{17061231}, b90...|17061231|                   null|    The Ravenous Pig|\n",
      "|null|   null|         6835|           20|            1|  null|{{{17058534}, b90...|17058534|                   null|    Earl of Sandwich|\n",
      "|null|   null|         6835|           20|            1|  null|{{{17057925}, b90...|17057925|                   null|    Café Tu Tu Tango|\n",
      "|null|   null|         6835|           20|            1|  null|{{{17064031}, b90...|17064031|                   null|Tibby's New Orlea...|\n",
      "|null|   null|         6835|           20|            1|  null|{{{17061237}, b90...|17061237|                   null|Cevíche Tapas Bar...|\n",
      "|null|   null|         6835|           20|            1|  null|{{{17061253}, b90...|17061253|                   null| Ethos Vegan Kitchen|\n",
      "|null|   null|         6835|           20|            1|  null|{{{17061296}, b90...|17061296|                   null|Pom Pom's Teahous...|\n",
      "|null|   null|         6835|           20|            1|  null|{{{17061205}, b90...|17061205|                   null|     Yellow Dog Eats|\n",
      "|null|   null|         6835|           20|            1|  null|{{{17057397}, b90...|17057397|                   null|              'Ohana|\n",
      "+----+-------+-------------+-------------+-------------+------+--------------------+--------+-----------------------+--------------------+\n",
      "only showing top 20 rows\n",
      "\n"
     ]
    }
   ],
   "source": [
    "resto_data.select((\"*\"),explode(\"restaurants\").alias(\"new_restaurants\"))\\\n",
    "    .drop(\"restaurants\")\\\n",
    "        .select(\"*\",\"new_restaurants.restaurant.R.res_id\"\n",
    "                ,explode_outer(\"new_restaurants.restaurant.establishment_types\").alias(\"establishment_types_new\"),\"new_restaurants.restaurant.name\").show()"
   ]
  },
  {
   "cell_type": "code",
   "execution_count": 0,
   "metadata": {
    "application/vnd.databricks.v1+cell": {
     "cellMetadata": {
      "byteLimit": 2048000,
      "rowLimit": 10000
     },
     "inputWidgets": {},
     "nuid": "bca6cd4d-ee02-4cc3-8a47-c8cbbbe825b6",
     "showTitle": false,
     "tableResultSettingsMap": {},
     "title": ""
    }
   },
   "outputs": [
    {
     "name": "stdout",
     "output_type": "stream",
     "text": [
      "+--------+-----------------------+------------------------------------+---------------------------------+--------+\n",
      "|res_id  |establishment_types_new|name                                |cuisines                         |currency|\n",
      "+--------+-----------------------+------------------------------------+---------------------------------+--------+\n",
      "|17066603|null                   |The Coop                            |Southern, Cajun, Soul Food       |$       |\n",
      "|17059541|null                   |Maggiano's Little Italy             |Italian                          |$       |\n",
      "|17064405|null                   |Tako Cheena by Pom Pom              |Asian, Latin American, Vegetarian|$       |\n",
      "|17057797|null                   |Bosphorous Turkish Cuisine          |Mediterranean, Turkish           |$       |\n",
      "|17057591|null                   |Bahama Breeze Island Grille         |Caribbean                        |$       |\n",
      "|17064266|null                   |Hawkers Asian Street Fare           |Asian, Thai                      |$       |\n",
      "|17060516|null                   |Seasons 52 Fresh Grill              |American                         |$       |\n",
      "|17060320|null                   |Raglan Road Irish Pub and Restaurant|Irish                            |$       |\n",
      "|17059060|null                   |Hillstone                           |                                 |$       |\n",
      "|17059012|null                   |Hollerbach's Willow Tree Café       |German                           |$       |\n",
      "|17060869|null                   |Texas de Brazil                     |Brazilian, Steak                 |$       |\n",
      "|17061231|null                   |The Ravenous Pig                    |Pub Food                         |$       |\n",
      "|17058534|null                   |Earl of Sandwich                    |American, Sandwich, Salad        |$       |\n",
      "|17057925|null                   |Café Tu Tu Tango                    |New American, Tapas              |$       |\n",
      "|17064031|null                   |Tibby's New Orleans Kitchen         |Cajun                            |$       |\n",
      "|17061237|null                   |Cevíche Tapas Bar & Restaurant      |Spanish, Tapas                   |$       |\n",
      "|17061253|null                   |Ethos Vegan Kitchen                 |American, Breakfast, Vegetarian  |$       |\n",
      "|17061296|null                   |Pom Pom's Teahouse and Sandwicheria |American, Sandwich, Tea          |$       |\n",
      "|17061205|null                   |Yellow Dog Eats                     |American, BBQ, Sandwich          |$       |\n",
      "|17057397|null                   |'Ohana                              |Hawaiian                         |$       |\n",
      "+--------+-----------------------+------------------------------------+---------------------------------+--------+\n",
      "only showing top 20 rows\n",
      "\n"
     ]
    }
   ],
   "source": [
    "\n",
    "resto_data.select((\"*\"),explode(\"restaurants\").alias(\"new_restaurants\"))\\\n",
    "    .drop(\"restaurants\")\\\n",
    "        .select(\"*\",\"new_restaurants.restaurant.R.res_id\"\n",
    "                ,explode_outer(\"new_restaurants.restaurant.establishment_types\").alias(\"establishment_types_new\"),\"new_restaurants.restaurant.name\",\"new_restaurants.restaurant.cuisines\",\"new_restaurants.restaurant.currency\").drop(\"code\",\"message\",\"results_found\",\"results_shown\",\"results_start\",\"status\",\"new_restaurants\").show(truncate=False)"
   ]
  },
  {
   "cell_type": "code",
   "execution_count": 0,
   "metadata": {
    "application/vnd.databricks.v1+cell": {
     "cellMetadata": {},
     "inputWidgets": {},
     "nuid": "8a20fa3e-a1c1-4fd1-ab3e-7709df3eb300",
     "showTitle": false,
     "tableResultSettingsMap": {},
     "title": ""
    }
   },
   "outputs": [],
   "source": [
    "#\"events_url\",\"deeplink\",\"events_url\",\"featured_image\",\"price_range\",\"price_range\",\"location\",\"address\",\"city\",\"latitude\",\"locality\",\"longitude\""
   ]
  },
  {
   "cell_type": "code",
   "execution_count": 0,
   "metadata": {
    "application/vnd.databricks.v1+cell": {
     "cellMetadata": {
      "byteLimit": 2048000,
      "rowLimit": 10000
     },
     "inputWidgets": {},
     "nuid": "11a5d9b8-c5b5-4a81-9fcf-1b61b8c69d32",
     "showTitle": false,
     "tableResultSettingsMap": {},
     "title": ""
    }
   },
   "outputs": [
    {
     "name": "stdout",
     "output_type": "stream",
     "text": [
      "+--------+-----------------------+--------------------+--------------------+--------+-----------+--------------------+--------------------+--------------------+\n",
      "|  res_id|establishment_types_new|                name|            cuisines|currency|price_range|      featured_image|            deeplink|          events_url|\n",
      "+--------+-----------------------+--------------------+--------------------+--------+-----------+--------------------+--------------------+--------------------+\n",
      "|17066603|                   null|            The Coop|Southern, Cajun, ...|       $|          2|https://b.zmtcdn....|zomato://restaura...|https://www.zomat...|\n",
      "|17059541|                   null|Maggiano's Little...|             Italian|       $|          4|https://b.zmtcdn....|zomato://restaura...|https://www.zomat...|\n",
      "|17064405|                   null|Tako Cheena by Po...|Asian, Latin Amer...|       $|          1|https://b.zmtcdn....|zomato://restaura...|https://www.zomat...|\n",
      "|17057797|                   null|Bosphorous Turkis...|Mediterranean, Tu...|       $|          3|https://b.zmtcdn....|zomato://restaura...|https://www.zomat...|\n",
      "|17057591|                   null|Bahama Breeze Isl...|           Caribbean|       $|          3|https://b.zmtcdn....|zomato://restaura...|https://www.zomat...|\n",
      "|17064266|                   null|Hawkers Asian Str...|         Asian, Thai|       $|          3|https://b.zmtcdn....|zomato://restaura...|https://www.zomat...|\n",
      "|17060516|                   null|Seasons 52 Fresh ...|            American|       $|          4|https://b.zmtcdn....|zomato://restaura...|https://www.zomat...|\n",
      "|17060320|                   null|Raglan Road Irish...|               Irish|       $|          4|https://b.zmtcdn....|zomato://restaura...|https://www.zomat...|\n",
      "|17059060|                   null|           Hillstone|                    |       $|          3|https://b.zmtcdn....|zomato://restaura...|https://www.zomat...|\n",
      "|17059012|                   null|Hollerbach's Will...|              German|       $|          3|https://b.zmtcdn....|zomato://restaura...|https://www.zomat...|\n",
      "|17060869|                   null|     Texas de Brazil|    Brazilian, Steak|       $|          4|https://b.zmtcdn....|zomato://restaura...|https://www.zomat...|\n",
      "|17061231|                   null|    The Ravenous Pig|            Pub Food|       $|          3|https://b.zmtcdn....|zomato://restaura...|https://www.zomat...|\n",
      "|17058534|                   null|    Earl of Sandwich|American, Sandwic...|       $|          3|https://b.zmtcdn....|zomato://restaura...|https://www.zomat...|\n",
      "|17057925|                   null|    Café Tu Tu Tango| New American, Tapas|       $|          3|https://b.zmtcdn....|zomato://restaura...|https://www.zomat...|\n",
      "|17064031|                   null|Tibby's New Orlea...|               Cajun|       $|          2|https://b.zmtcdn....|zomato://restaura...|https://www.zomat...|\n",
      "|17061237|                   null|Cevíche Tapas Bar...|      Spanish, Tapas|       $|          3|                    |zomato://restaura...|https://www.zomat...|\n",
      "|17061253|                   null| Ethos Vegan Kitchen|American, Breakfa...|       $|          2|https://b.zmtcdn....|zomato://restaura...|https://www.zomat...|\n",
      "|17061296|                   null|Pom Pom's Teahous...|American, Sandwic...|       $|          2|https://b.zmtcdn....|zomato://restaura...|https://www.zomat...|\n",
      "|17061205|                   null|     Yellow Dog Eats|American, BBQ, Sa...|       $|          3|https://b.zmtcdn....|zomato://restaura...|https://www.zomat...|\n",
      "|17057397|                   null|              'Ohana|            Hawaiian|       $|          3|https://b.zmtcdn....|zomato://restaura...|https://www.zomat...|\n",
      "+--------+-----------------------+--------------------+--------------------+--------+-----------+--------------------+--------------------+--------------------+\n",
      "only showing top 20 rows\n",
      "\n"
     ]
    }
   ],
   "source": [
    "\n",
    "resto_data.select((\"*\"),explode(\"restaurants\").alias(\"new_restaurants\"))\\\n",
    "    .drop(\"restaurants\")\\\n",
    "        .select(\"*\",\"new_restaurants.restaurant.R.res_id\",\"new_restaurants.restaurant.location\"\n",
    "                ,explode_outer(\"new_restaurants.restaurant.establishment_types\").alias(\"establishment_types_new\"),\"new_restaurants.restaurant.name\",\"new_restaurants.restaurant.cuisines\",\"new_restaurants.restaurant.currency\",\"new_restaurants.restaurant.price_range\",\"new_restaurants.restaurant.featured_image\",\"new_restaurants.restaurant.deeplink\",\"new_restaurants.restaurant.events_url\").drop(\"code\",\"message\",\"results_found\",\"results_shown\",\"results_start\",\"status\",\"new_restaurants\").show()"
   ]
  },
  {
   "cell_type": "code",
   "execution_count": 0,
   "metadata": {
    "application/vnd.databricks.v1+cell": {
     "cellMetadata": {
      "byteLimit": 2048000,
      "rowLimit": 10000
     },
     "inputWidgets": {},
     "nuid": "aef6f4f2-e5c3-4495-a426-4723d8841f98",
     "showTitle": false,
     "tableResultSettingsMap": {},
     "title": ""
    }
   },
   "outputs": [
    {
     "name": "stdout",
     "output_type": "stream",
     "text": [
      "root\n",
      " |-- code: long (nullable = true)\n",
      " |-- message: string (nullable = true)\n",
      " |-- restaurants: array (nullable = true)\n",
      " |    |-- element: struct (containsNull = true)\n",
      " |    |    |-- restaurant: struct (nullable = true)\n",
      " |    |    |    |-- R: struct (nullable = true)\n",
      " |    |    |    |    |-- res_id: long (nullable = true)\n",
      " |    |    |    |-- apikey: string (nullable = true)\n",
      " |    |    |    |-- average_cost_for_two: long (nullable = true)\n",
      " |    |    |    |-- cuisines: string (nullable = true)\n",
      " |    |    |    |-- currency: string (nullable = true)\n",
      " |    |    |    |-- deeplink: string (nullable = true)\n",
      " |    |    |    |-- establishment_types: array (nullable = true)\n",
      " |    |    |    |    |-- element: string (containsNull = true)\n",
      " |    |    |    |-- events_url: string (nullable = true)\n",
      " |    |    |    |-- featured_image: string (nullable = true)\n",
      " |    |    |    |-- has_online_delivery: long (nullable = true)\n",
      " |    |    |    |-- has_table_booking: long (nullable = true)\n",
      " |    |    |    |-- id: string (nullable = true)\n",
      " |    |    |    |-- is_delivering_now: long (nullable = true)\n",
      " |    |    |    |-- location: struct (nullable = true)\n",
      " |    |    |    |    |-- address: string (nullable = true)\n",
      " |    |    |    |    |-- city: string (nullable = true)\n",
      " |    |    |    |    |-- city_id: long (nullable = true)\n",
      " |    |    |    |    |-- country_id: long (nullable = true)\n",
      " |    |    |    |    |-- latitude: string (nullable = true)\n",
      " |    |    |    |    |-- locality: string (nullable = true)\n",
      " |    |    |    |    |-- locality_verbose: string (nullable = true)\n",
      " |    |    |    |    |-- longitude: string (nullable = true)\n",
      " |    |    |    |    |-- zipcode: string (nullable = true)\n",
      " |    |    |    |-- menu_url: string (nullable = true)\n",
      " |    |    |    |-- name: string (nullable = true)\n",
      " |    |    |    |-- offers: array (nullable = true)\n",
      " |    |    |    |    |-- element: string (containsNull = true)\n",
      " |    |    |    |-- photos_url: string (nullable = true)\n",
      " |    |    |    |-- price_range: long (nullable = true)\n",
      " |    |    |    |-- switch_to_order_menu: long (nullable = true)\n",
      " |    |    |    |-- thumb: string (nullable = true)\n",
      " |    |    |    |-- url: string (nullable = true)\n",
      " |    |    |    |-- user_rating: struct (nullable = true)\n",
      " |    |    |    |    |-- aggregate_rating: string (nullable = true)\n",
      " |    |    |    |    |-- rating_color: string (nullable = true)\n",
      " |    |    |    |    |-- rating_text: string (nullable = true)\n",
      " |    |    |    |    |-- votes: string (nullable = true)\n",
      " |-- results_found: long (nullable = true)\n",
      " |-- results_shown: long (nullable = true)\n",
      " |-- results_start: string (nullable = true)\n",
      " |-- status: string (nullable = true)\n",
      "\n"
     ]
    }
   ],
   "source": [
    "resto_data.printSchema()"
   ]
  },
  {
   "cell_type": "code",
   "execution_count": 0,
   "metadata": {
    "application/vnd.databricks.v1+cell": {
     "cellMetadata": {
      "byteLimit": 2048000,
      "rowLimit": 10000
     },
     "inputWidgets": {},
     "nuid": "fc1c441d-f80a-4033-ad84-b3ac836b7973",
     "showTitle": false,
     "tableResultSettingsMap": {},
     "title": ""
    }
   },
   "outputs": [
    {
     "name": "stdout",
     "output_type": "stream",
     "text": [
      "+--------+--------------------+-------+-------------+--------------------+--------------+-----------------------+--------------------+--------------------+-----------+--------------------+--------------------+--------------------+\n",
      "|  res_id|             address|   city|     latitude|            locality|     longitude|establishment_types_new|                name|            cuisines|price_range|      featured_image|            deeplink|          events_url|\n",
      "+--------+--------------------+-------+-------------+--------------------+--------------+-----------------------+--------------------+--------------------+-----------+--------------------+--------------------+--------------------+\n",
      "|17066603|610 W Morse Boule...|Orlando|28.5973660000|         Winter Park|-81.3572190000|                   null|            The Coop|Southern, Cajun, ...|          2|https://b.zmtcdn....|zomato://restaura...|https://www.zomat...|\n",
      "|17059541|9101 Internationa...|Orlando|28.4332350000|   I-Drive/Universal|-81.4714470000|                   null|Maggiano's Little...|             Italian|          4|https://b.zmtcdn....|zomato://restaura...|https://www.zomat...|\n",
      "|17064405|932 North Mills A...|Orlando|28.5578450000|            Mills 50|-81.3645470000|                   null|Tako Cheena by Po...|Asian, Latin Amer...|          1|https://b.zmtcdn....|zomato://restaura...|https://www.zomat...|\n",
      "|17057797|108 S Park Ave, W...|Orlando|28.5976271000|         Winter Park|-81.3508344000|                   null|Bosphorous Turkis...|Mediterranean, Tu...|          3|https://b.zmtcdn....|zomato://restaura...|https://www.zomat...|\n",
      "|17057591|8849 Internationa...|Orlando|28.4370650000|   I-Drive/Universal|-81.4715260000|                   null|Bahama Breeze Isl...|           Caribbean|          3|https://b.zmtcdn....|zomato://restaura...|https://www.zomat...|\n",
      "|17064266|1103 N Mills Aven...|Orlando|28.5605050000|            Mills 50|-81.3643470000|                   null|Hawkers Asian Str...|         Asian, Thai|          3|https://b.zmtcdn....|zomato://restaura...|https://www.zomat...|\n",
      "|17060516|7700 West Sand La...|Orlando|28.4481750000|      Restaurant Row|-81.4879780000|                   null|Seasons 52 Fresh ...|            American|          4|https://b.zmtcdn....|zomato://restaura...|https://www.zomat...|\n",
      "|17060320|1640 E Buena Vist...|Orlando|28.3713380000|Disney: Downtown ...|-81.5177250000|                   null|Raglan Road Irish...|               Irish|          4|https://b.zmtcdn....|zomato://restaura...|https://www.zomat...|\n",
      "|17059060|215 South Orlando...|Orlando|28.5966820000|         Winter Park|-81.3652600000|                   null|           Hillstone|                    |          3|https://b.zmtcdn....|zomato://restaura...|https://www.zomat...|\n",
      "|17059012|205 East 1st Stre...|Orlando|28.8116530000|             Sanford|-81.2668710000|                   null|Hollerbach's Will...|              German|          3|https://b.zmtcdn....|zomato://restaura...|https://www.zomat...|\n",
      "|17060869|5259 Internationa...|Orlando|28.4676808000|   I-Drive/Universal|-81.4510725000|                   null|     Texas de Brazil|    Brazilian, Steak|          4|https://b.zmtcdn....|zomato://restaura...|https://www.zomat...|\n",
      "|17061231|565 W Fairbanks A...|Orlando|28.5932970000|         Winter Park|-81.3560240000|                   null|    The Ravenous Pig|            Pub Food|          3|https://b.zmtcdn....|zomato://restaura...|https://www.zomat...|\n",
      "|17058534|1750 E Buena Vist...|Orlando|28.3728580000|Disney: Downtown ...|-81.5146080000|                   null|    Earl of Sandwich|American, Sandwic...|          3|https://b.zmtcdn....|zomato://restaura...|https://www.zomat...|\n",
      "|17057925|8625 Internationa...|Orlando|28.4403440000|   I-Drive/Universal|-81.4699860000|                   null|    Café Tu Tu Tango| New American, Tapas|          3|https://b.zmtcdn....|zomato://restaura...|https://www.zomat...|\n",
      "|17064031|2203 Aloma Avenue...|Orlando|28.6010880000|         Winter Park|-81.3226310000|                   null|Tibby's New Orlea...|               Cajun|          2|https://b.zmtcdn....|zomato://restaura...|https://www.zomat...|\n",
      "|17061237|125 West Church S...|Orlando|28.5404320000|Church Street Dis...|-81.3810770000|                   null|Cevíche Tapas Bar...|      Spanish, Tapas|          3|                    |zomato://restaura...|https://www.zomat...|\n",
      "|17061253|601-B South New Y...|Orlando|28.5928570000|         Winter Park|-81.3529210000|                   null| Ethos Vegan Kitchen|American, Breakfa...|          2|https://b.zmtcdn....|zomato://restaura...|https://www.zomat...|\n",
      "|17061296|67 North Bumby Av...|Orlando|28.5435710000|   The Milk District|-81.3514670000|                   null|Pom Pom's Teahous...|American, Sandwic...|          2|https://b.zmtcdn....|zomato://restaura...|https://www.zomat...|\n",
      "|17061205|1236 Hempel Avenu...|Orlando|28.5275920000|          Windermere|-81.5229870000|                   null|     Yellow Dog Eats|American, BBQ, Sa...|          3|https://b.zmtcdn....|zomato://restaura...|https://www.zomat...|\n",
      "|17057397|1600 Seven Seas D...|Orlando|28.4054370000|   Disney World Area|-81.5852260000|                   null|              'Ohana|            Hawaiian|          3|https://b.zmtcdn....|zomato://restaura...|https://www.zomat...|\n",
      "+--------+--------------------+-------+-------------+--------------------+--------------+-----------------------+--------------------+--------------------+-----------+--------------------+--------------------+--------------------+\n",
      "only showing top 20 rows\n",
      "\n"
     ]
    }
   ],
   "source": [
    "\n",
    "resto_data.select((\"*\"),explode(\"restaurants\").alias(\"new_restaurants\"))\\\n",
    "    .drop(\"restaurants\")\\\n",
    "        .select(\"*\",\"new_restaurants.restaurant.R.res_id\",\"new_restaurants.restaurant.location.address\",\"new_restaurants.restaurant.location.city\",\"new_restaurants.restaurant.location.latitude\",\"new_restaurants.restaurant.location.locality\",\"new_restaurants.restaurant.location.longitude\"\n",
    "                ,explode_outer(\"new_restaurants.restaurant.establishment_types\").alias(\"establishment_types_new\"),\"new_restaurants.restaurant.name\",\"new_restaurants.restaurant.cuisines\",\"new_restaurants.restaurant.price_range\",\"new_restaurants.restaurant.featured_image\",\"new_restaurants.restaurant.deeplink\",\"new_restaurants.restaurant.events_url\").drop(\"code\",\"message\",\"results_found\",\"results_shown\",\"results_start\",\"status\",\"new_restaurants\").show()"
   ]
  },
  {
   "cell_type": "code",
   "execution_count": 0,
   "metadata": {
    "application/vnd.databricks.v1+cell": {
     "cellMetadata": {
      "byteLimit": 2048000,
      "rowLimit": 10000
     },
     "inputWidgets": {},
     "nuid": "dc982dc8-176d-4711-b8c6-551fbbf608d2",
     "showTitle": false,
     "tableResultSettingsMap": {},
     "title": ""
    }
   },
   "outputs": [
    {
     "name": "stdout",
     "output_type": "stream",
     "text": [
      "root\n",
      " |-- res_id: long (nullable = true)\n",
      " |-- address: string (nullable = true)\n",
      " |-- city: string (nullable = true)\n",
      " |-- latitude: string (nullable = true)\n",
      " |-- locality: string (nullable = true)\n",
      " |-- longitude: string (nullable = true)\n",
      " |-- establishment_types_new: string (nullable = true)\n",
      " |-- name: string (nullable = true)\n",
      " |-- cuisines: string (nullable = true)\n",
      " |-- price_range: long (nullable = true)\n",
      " |-- featured_image: string (nullable = true)\n",
      " |-- deeplink: string (nullable = true)\n",
      " |-- events_url: string (nullable = true)\n",
      "\n"
     ]
    }
   ],
   "source": [
    "#\"events_url\",\"deeplink\",\"events_url\",\"featured_image\",\"price_range\",\"price_range\",\"location\",\"address\",\"city\",\"latitude\",\"locality\",\"longitude\"\n",
    "\n",
    "resto_data.select((\"*\"),explode(\"restaurants\").alias(\"new_restaurants\"))\\\n",
    "    .drop(\"restaurants\")\\\n",
    "        .select(\"*\",\"new_restaurants.restaurant.R.res_id\",\"new_restaurants.restaurant.location.address\",\"new_restaurants.restaurant.location.city\",\"new_restaurants.restaurant.location.latitude\",\"new_restaurants.restaurant.location.locality\",\"new_restaurants.restaurant.location.longitude\"\n",
    "                ,explode_outer(\"new_restaurants.restaurant.establishment_types\").alias(\"establishment_types_new\"),\"new_restaurants.restaurant.name\",\"new_restaurants.restaurant.cuisines\",\"new_restaurants.restaurant.price_range\",\"new_restaurants.restaurant.featured_image\",\"new_restaurants.restaurant.deeplink\",\"new_restaurants.restaurant.events_url\").drop(\"code\",\"message\",\"results_found\",\"results_shown\",\"results_start\",\"status\",\"new_restaurants\").printSchema()"
   ]
  },
  {
   "cell_type": "code",
   "execution_count": 0,
   "metadata": {
    "application/vnd.databricks.v1+cell": {
     "cellMetadata": {},
     "inputWidgets": {},
     "nuid": "6bf19e79-fb98-412f-90e5-c8caeddb401d",
     "showTitle": false,
     "tableResultSettingsMap": {},
     "title": ""
    }
   },
   "outputs": [],
   "source": []
  },
  {
   "cell_type": "code",
   "execution_count": 0,
   "metadata": {
    "application/vnd.databricks.v1+cell": {
     "cellMetadata": {},
     "inputWidgets": {},
     "nuid": "4c3d6f51-89e7-48d5-ba4f-cdd77509ab25",
     "showTitle": false,
     "tableResultSettingsMap": {},
     "title": ""
    }
   },
   "outputs": [],
   "source": []
  },
  {
   "cell_type": "code",
   "execution_count": 0,
   "metadata": {
    "application/vnd.databricks.v1+cell": {
     "cellMetadata": {},
     "inputWidgets": {},
     "nuid": "b5fd9e69-4d2b-4be1-a620-f4b96eaed5d1",
     "showTitle": false,
     "tableResultSettingsMap": {},
     "title": ""
    }
   },
   "outputs": [],
   "source": []
  },
  {
   "cell_type": "code",
   "execution_count": 0,
   "metadata": {
    "application/vnd.databricks.v1+cell": {
     "cellMetadata": {},
     "inputWidgets": {},
     "nuid": "0ccf52ae-b75a-4527-82a6-35a3aadfa99e",
     "showTitle": false,
     "tableResultSettingsMap": {},
     "title": ""
    }
   },
   "outputs": [],
   "source": []
  },
  {
   "cell_type": "code",
   "execution_count": 0,
   "metadata": {
    "application/vnd.databricks.v1+cell": {
     "cellMetadata": {},
     "inputWidgets": {},
     "nuid": "928306b0-7788-4f8c-a8e9-6d35f6b3170a",
     "showTitle": false,
     "tableResultSettingsMap": {},
     "title": ""
    }
   },
   "outputs": [],
   "source": []
  },
  {
   "cell_type": "code",
   "execution_count": 0,
   "metadata": {
    "application/vnd.databricks.v1+cell": {
     "cellMetadata": {},
     "inputWidgets": {},
     "nuid": "840b044a-4f81-4cb4-8a5e-2290a3e0373f",
     "showTitle": false,
     "tableResultSettingsMap": {},
     "title": ""
    }
   },
   "outputs": [],
   "source": []
  }
 ],
 "metadata": {
  "application/vnd.databricks.v1+notebook": {
   "dashboards": [],
   "environmentMetadata": null,
   "language": "python",
   "notebookMetadata": {
    "mostRecentlyExecutedCommandWithImplicitDF": {
     "commandId": 4403274775721686,
     "dataframes": [
      "_sqldf"
     ]
    },
    "pythonIndentUnit": 4
   },
   "notebookName": "20_Flatten_Json 2024-10-22 16:52:19",
   "widgets": {}
  },
  "kernelspec": {
   "display_name": "Python 3 (ipykernel)",
   "language": "python",
   "name": "python3"
  },
  "language_info": {
   "codemirror_mode": {
    "name": "ipython",
    "version": 3
   },
   "file_extension": ".py",
   "mimetype": "text/x-python",
   "name": "python",
   "nbconvert_exporter": "python",
   "pygments_lexer": "ipython3",
   "version": "3.9.13"
  }
 },
 "nbformat": 4,
 "nbformat_minor": 1
}
