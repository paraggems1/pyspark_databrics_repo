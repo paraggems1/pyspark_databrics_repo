{
 "cells": [
  {
   "cell_type": "code",
   "execution_count": 0,
   "metadata": {
    "application/vnd.databricks.v1+cell": {
     "cellMetadata": {
      "byteLimit": 2048000,
      "rowLimit": 10000
     },
     "inputWidgets": {},
     "nuid": "b6dbbcc8-97bf-4016-aef5-a9aa7b38e65d",
     "showTitle": false,
     "title": ""
    }
   },
   "outputs": [
    {
     "data": {
      "text/html": [
       "\n",
       "            <div>\n",
       "                <p><b>SparkSession - hive</b></p>\n",
       "                \n",
       "        <div>\n",
       "            <p><b>SparkContext</b></p>\n",
       "\n",
       "            <p><a href=\"/?o=2603575592592943#setting/sparkui/0730-050404-vmmcs1jn/driver-5143910696191430198\">Spark UI</a></p>\n",
       "\n",
       "            <dl>\n",
       "              <dt>Version</dt>\n",
       "                <dd><code>v3.3.2</code></dd>\n",
       "              <dt>Master</dt>\n",
       "                <dd><code>local[8]</code></dd>\n",
       "              <dt>AppName</dt>\n",
       "                <dd><code>Databricks Shell</code></dd>\n",
       "            </dl>\n",
       "        </div>\n",
       "        \n",
       "            </div>\n",
       "        "
      ]
     },
     "metadata": {
      "application/vnd.databricks.v1+output": {
       "addedWidgets": {},
       "arguments": {},
       "data": "\n            <div>\n                <p><b>SparkSession - hive</b></p>\n                \n        <div>\n            <p><b>SparkContext</b></p>\n\n            <p><a href=\"/?o=2603575592592943#setting/sparkui/0730-050404-vmmcs1jn/driver-5143910696191430198\">Spark UI</a></p>\n\n            <dl>\n              <dt>Version</dt>\n                <dd><code>v3.3.2</code></dd>\n              <dt>Master</dt>\n                <dd><code>local[8]</code></dd>\n              <dt>AppName</dt>\n                <dd><code>Databricks Shell</code></dd>\n            </dl>\n        </div>\n        \n            </div>\n        ",
       "datasetInfos": [],
       "metadata": {},
       "removedWidgets": [],
       "textData": null,
       "type": "htmlSandbox"
      }
     },
     "output_type": "display_data"
    }
   ],
   "source": [
    "spark"
   ]
  },
  {
   "cell_type": "code",
   "execution_count": 0,
   "metadata": {
    "application/vnd.databricks.v1+cell": {
     "cellMetadata": {
      "byteLimit": 2048000,
      "rowLimit": 10000
     },
     "inputWidgets": {},
     "nuid": "14f07648-fb1f-4e99-ae1f-554a39703564",
     "showTitle": false,
     "title": ""
    }
   },
   "outputs": [
    {
     "data": {
      "text/html": [
       "<style scoped>\n",
       "  .table-result-container {\n",
       "    max-height: 300px;\n",
       "    overflow: auto;\n",
       "  }\n",
       "  table, th, td {\n",
       "    border: 1px solid black;\n",
       "    border-collapse: collapse;\n",
       "  }\n",
       "  th, td {\n",
       "    padding: 5px;\n",
       "  }\n",
       "  th {\n",
       "    text-align: left;\n",
       "  }\n",
       "</style><div class='table-result-container'><table class='table-result'><thead style='background-color: white'><tr><th>path</th><th>name</th><th>size</th><th>modificationTime</th></tr></thead><tbody><tr><td>dbfs:/FileStore/tables/2010_summary.csv</td><td>2010_summary.csv</td><td>7121</td><td>1721349228000</td></tr><tr><td>dbfs:/FileStore/tables/Multi_line_correct-1.json</td><td>Multi_line_correct-1.json</td><td>314</td><td>1722306218000</td></tr><tr><td>dbfs:/FileStore/tables/Multi_line_correct-2.json</td><td>Multi_line_correct-2.json</td><td>285</td><td>1722306401000</td></tr><tr><td>dbfs:/FileStore/tables/Multi_line_correct.json</td><td>Multi_line_correct.json</td><td>314</td><td>1722305125000</td></tr><tr><td>dbfs:/FileStore/tables/Multi_line_incorrect-1.json</td><td>Multi_line_incorrect-1.json</td><td>306</td><td>1722306868000</td></tr><tr><td>dbfs:/FileStore/tables/Multi_line_incorrect.json</td><td>Multi_line_incorrect.json</td><td>306</td><td>1722305125000</td></tr><tr><td>dbfs:/FileStore/tables/bad_records/</td><td>bad_records/</td><td>0</td><td>0</td></tr><tr><td>dbfs:/FileStore/tables/corrupt_Multi_linejson.json</td><td>corrupt_Multi_linejson.json</td><td>303</td><td>1722307303000</td></tr><tr><td>dbfs:/FileStore/tables/corrupted_json.json</td><td>corrupted_json.json</td><td>224</td><td>1722307497000</td></tr><tr><td>dbfs:/FileStore/tables/emlpoyee.csv</td><td>emlpoyee.csv</td><td>230</td><td>1721434558000</td></tr><tr><td>dbfs:/FileStore/tables/file5.json</td><td>file5.json</td><td>669503</td><td>1722304339000</td></tr><tr><td>dbfs:/FileStore/tables/flight_data-1.csv</td><td>flight_data-1.csv</td><td>7121</td><td>1721349620000</td></tr><tr><td>dbfs:/FileStore/tables/flight_data-2.csv</td><td>flight_data-2.csv</td><td>7121</td><td>1721354248000</td></tr><tr><td>dbfs:/FileStore/tables/flight_data-3.csv</td><td>flight_data-3.csv</td><td>7121</td><td>1722310428000</td></tr><tr><td>dbfs:/FileStore/tables/flight_data.csv</td><td>flight_data.csv</td><td>7121</td><td>1721349519000</td></tr><tr><td>dbfs:/FileStore/tables/flight_data_1-1.csv</td><td>flight_data_1-1.csv</td><td>7069</td><td>1721431466000</td></tr><tr><td>dbfs:/FileStore/tables/flight_data_1-2.csv</td><td>flight_data_1-2.csv</td><td>7069</td><td>1721431556000</td></tr><tr><td>dbfs:/FileStore/tables/flight_data_1.csv</td><td>flight_data_1.csv</td><td>6729</td><td>1721431142000</td></tr><tr><td>dbfs:/FileStore/tables/json_nested.json</td><td>json_nested.json</td><td>891043</td><td>1722304339000</td></tr><tr><td>dbfs:/FileStore/tables/json_records_in_video7.txt</td><td>json_records_in_video7.txt</td><td>1422</td><td>1722304339000</td></tr><tr><td>dbfs:/FileStore/tables/lec8_data.csv</td><td>lec8_data.csv</td><td>743</td><td>1722316864000</td></tr><tr><td>dbfs:/FileStore/tables/lec8_data.txt</td><td>lec8_data.txt</td><td>743</td><td>1722316700000</td></tr><tr><td>dbfs:/FileStore/tables/line_delimited-1.json</td><td>line_delimited-1.json</td><td>756</td><td>1722305350000</td></tr><tr><td>dbfs:/FileStore/tables/line_delimited.json</td><td>line_delimited.json</td><td>756</td><td>1722305125000</td></tr><tr><td>dbfs:/FileStore/tables/line_delimited_json.json</td><td>line_delimited_json.json</td><td>225</td><td>1722305720000</td></tr><tr><td>dbfs:/FileStore/tables/single_file_json_with_extra_fields.json</td><td>single_file_json_with_extra_fields.json</td><td>238</td><td>1722305965000</td></tr></tbody></table></div>"
      ]
     },
     "metadata": {
      "application/vnd.databricks.v1+output": {
       "addedWidgets": {},
       "aggData": [],
       "aggError": "",
       "aggOverflow": false,
       "aggSchema": [],
       "aggSeriesLimitReached": false,
       "aggType": "",
       "arguments": {},
       "columnCustomDisplayInfos": {},
       "data": [
        [
         "dbfs:/FileStore/tables/2010_summary.csv",
         "2010_summary.csv",
         7121,
         1721349228000
        ],
        [
         "dbfs:/FileStore/tables/Multi_line_correct-1.json",
         "Multi_line_correct-1.json",
         314,
         1722306218000
        ],
        [
         "dbfs:/FileStore/tables/Multi_line_correct-2.json",
         "Multi_line_correct-2.json",
         285,
         1722306401000
        ],
        [
         "dbfs:/FileStore/tables/Multi_line_correct.json",
         "Multi_line_correct.json",
         314,
         1722305125000
        ],
        [
         "dbfs:/FileStore/tables/Multi_line_incorrect-1.json",
         "Multi_line_incorrect-1.json",
         306,
         1722306868000
        ],
        [
         "dbfs:/FileStore/tables/Multi_line_incorrect.json",
         "Multi_line_incorrect.json",
         306,
         1722305125000
        ],
        [
         "dbfs:/FileStore/tables/bad_records/",
         "bad_records/",
         0,
         0
        ],
        [
         "dbfs:/FileStore/tables/corrupt_Multi_linejson.json",
         "corrupt_Multi_linejson.json",
         303,
         1722307303000
        ],
        [
         "dbfs:/FileStore/tables/corrupted_json.json",
         "corrupted_json.json",
         224,
         1722307497000
        ],
        [
         "dbfs:/FileStore/tables/emlpoyee.csv",
         "emlpoyee.csv",
         230,
         1721434558000
        ],
        [
         "dbfs:/FileStore/tables/file5.json",
         "file5.json",
         669503,
         1722304339000
        ],
        [
         "dbfs:/FileStore/tables/flight_data-1.csv",
         "flight_data-1.csv",
         7121,
         1721349620000
        ],
        [
         "dbfs:/FileStore/tables/flight_data-2.csv",
         "flight_data-2.csv",
         7121,
         1721354248000
        ],
        [
         "dbfs:/FileStore/tables/flight_data-3.csv",
         "flight_data-3.csv",
         7121,
         1722310428000
        ],
        [
         "dbfs:/FileStore/tables/flight_data.csv",
         "flight_data.csv",
         7121,
         1721349519000
        ],
        [
         "dbfs:/FileStore/tables/flight_data_1-1.csv",
         "flight_data_1-1.csv",
         7069,
         1721431466000
        ],
        [
         "dbfs:/FileStore/tables/flight_data_1-2.csv",
         "flight_data_1-2.csv",
         7069,
         1721431556000
        ],
        [
         "dbfs:/FileStore/tables/flight_data_1.csv",
         "flight_data_1.csv",
         6729,
         1721431142000
        ],
        [
         "dbfs:/FileStore/tables/json_nested.json",
         "json_nested.json",
         891043,
         1722304339000
        ],
        [
         "dbfs:/FileStore/tables/json_records_in_video7.txt",
         "json_records_in_video7.txt",
         1422,
         1722304339000
        ],
        [
         "dbfs:/FileStore/tables/lec8_data.csv",
         "lec8_data.csv",
         743,
         1722316864000
        ],
        [
         "dbfs:/FileStore/tables/lec8_data.txt",
         "lec8_data.txt",
         743,
         1722316700000
        ],
        [
         "dbfs:/FileStore/tables/line_delimited-1.json",
         "line_delimited-1.json",
         756,
         1722305350000
        ],
        [
         "dbfs:/FileStore/tables/line_delimited.json",
         "line_delimited.json",
         756,
         1722305125000
        ],
        [
         "dbfs:/FileStore/tables/line_delimited_json.json",
         "line_delimited_json.json",
         225,
         1722305720000
        ],
        [
         "dbfs:/FileStore/tables/single_file_json_with_extra_fields.json",
         "single_file_json_with_extra_fields.json",
         238,
         1722305965000
        ]
       ],
       "datasetInfos": [],
       "dbfsResultPath": null,
       "isJsonSchema": true,
       "metadata": {},
       "overflow": false,
       "plotOptions": {
        "customPlotOptions": {},
        "displayType": "table",
        "pivotAggregation": null,
        "pivotColumns": null,
        "xColumns": null,
        "yColumns": null
       },
       "removedWidgets": [],
       "schema": [
        {
         "metadata": "{}",
         "name": "path",
         "type": "\"string\""
        },
        {
         "metadata": "{}",
         "name": "name",
         "type": "\"string\""
        },
        {
         "metadata": "{}",
         "name": "size",
         "type": "\"long\""
        },
        {
         "metadata": "{}",
         "name": "modificationTime",
         "type": "\"long\""
        }
       ],
       "type": "table"
      }
     },
     "output_type": "display_data"
    }
   ],
   "source": [
    "display(dbutils.fs.ls(\"/FileStore/tables/\"))\n"
   ]
  },
  {
   "cell_type": "code",
   "execution_count": 0,
   "metadata": {
    "application/vnd.databricks.v1+cell": {
     "cellMetadata": {
      "byteLimit": 2048000,
      "rowLimit": 10000
     },
     "inputWidgets": {},
     "nuid": "3a897d96-d3a7-49ba-b969-1699dd1cfbd0",
     "showTitle": false,
     "title": ""
    }
   },
   "outputs": [],
   "source": [
    "\n",
    "df=spark.read.format(\"csv\")\\\n",
    "    .option(\"header\",\"true\")\\\n",
    "    .option(\"inferschema\",\"true\")\\\n",
    "    .load(\"/FileStore/tables/lec8_data.csv\")"
   ]
  },
  {
   "cell_type": "code",
   "execution_count": 0,
   "metadata": {
    "application/vnd.databricks.v1+cell": {
     "cellMetadata": {
      "byteLimit": 2048000,
      "rowLimit": 10000
     },
     "inputWidgets": {},
     "nuid": "929794f5-2c48-41da-8313-787dc2d3dfd0",
     "showTitle": false,
     "title": ""
    }
   },
   "outputs": [
    {
     "name": "stdout",
     "output_type": "stream",
     "text": [
      "+---+----------+--------+--------+----------+-----------+\n",
      "| id|      name|     age|  salary|   address|     gender|\n",
      "+---+----------+--------+--------+----------+-----------+\n",
      "|  1|    Manish|    26.0| 75000.0|     INDIA|          m|\n",
      "|  2|    Nikita|    23.0|100000.0|       USA|          f|\n",
      "|  3|    Pritam|    22.0|150000.0|     INDIA|          m|\n",
      "|  4|  Prantosh|    17.0|200000.0|     JAPAN|          m|\n",
      "|  5|    Vikash|    31.0|300000.0|       USA|          m|\n",
      "|  6|     Rahul|    55.0|300000.0|     INDIA|          m|\n",
      "|  7|      Raju|    67.0|540000.0|       USA|          m|\n",
      "|  8|   Praveen|    28.0| 70000.0|     JAPAN|          m|\n",
      "|  9|       Dev|    32.0|150000.0|     JAPAN|          m|\n",
      "| 10|    Sherin|    16.0| 25000.0|    RUSSIA|          f|\n",
      "| 11|      Ragu|    12.0| 35000.0|     INDIA|          f|\n",
      "| 12|     Sweta|    43.0|200000.0|     INDIA|          f|\n",
      "| 13|   Raushan|    48.0|650000.0|       USA|          m|\n",
      "| 14|    Mukesh|    36.0| 95000.0|    RUSSIA|          m|\n",
      "| 15|   Prakash|    52.0|750000.0|     INDIA|          m|\n",
      "+---+----------+--------+--------+----------+-----------+\n",
      "\n"
     ]
    }
   ],
   "source": [
    "df.show()"
   ]
  },
  {
   "cell_type": "code",
   "execution_count": 0,
   "metadata": {
    "application/vnd.databricks.v1+cell": {
     "cellMetadata": {
      "byteLimit": 2048000,
      "rowLimit": 10000
     },
     "inputWidgets": {},
     "nuid": "301c3f11-5ee3-4655-a463-fd4e20f54a9f",
     "showTitle": false,
     "title": ""
    }
   },
   "outputs": [],
   "source": [
    "df.write.format('csv')\\\n",
    "    .option('header','true')\\\n",
    "    .option('mode','overwrite')\\\n",
    "    .option('path','/FileStore/tables/csv_write/')\\\n",
    "    .save()"
   ]
  },
  {
   "cell_type": "code",
   "execution_count": 0,
   "metadata": {
    "application/vnd.databricks.v1+cell": {
     "cellMetadata": {
      "byteLimit": 2048000,
      "rowLimit": 10000
     },
     "inputWidgets": {},
     "nuid": "08afa03c-a1e0-4408-b71f-4e419098463b",
     "showTitle": false,
     "title": ""
    }
   },
   "outputs": [
    {
     "data": {
      "text/plain": [
       "\u001b[0;31m---------------------------------------------------------------------------\u001b[0m\n",
       "\u001b[0;31mNameError\u001b[0m                                 Traceback (most recent call last)\n",
       "File \u001b[0;32m<command-4301978835388485>:1\u001b[0m\n",
       "\u001b[0;32m----> 1\u001b[0m \u001b[43mdfutils\u001b[49m\u001b[38;5;241m.\u001b[39mfs\u001b[38;5;241m.\u001b[39mls(\u001b[38;5;124m'\u001b[39m\u001b[38;5;124m/FileStore/tables/csv_write/\u001b[39m\u001b[38;5;124m'\u001b[39m)\n",
       "\n",
       "\u001b[0;31mNameError\u001b[0m: name 'dfutils' is not defined"
      ]
     },
     "metadata": {
      "application/vnd.databricks.v1+output": {
       "arguments": {},
       "data": "\u001b[0;31m---------------------------------------------------------------------------\u001b[0m\n\u001b[0;31mNameError\u001b[0m                                 Traceback (most recent call last)\nFile \u001b[0;32m<command-4301978835388485>:1\u001b[0m\n\u001b[0;32m----> 1\u001b[0m \u001b[43mdfutils\u001b[49m\u001b[38;5;241m.\u001b[39mfs\u001b[38;5;241m.\u001b[39mls(\u001b[38;5;124m'\u001b[39m\u001b[38;5;124m/FileStore/tables/csv_write/\u001b[39m\u001b[38;5;124m'\u001b[39m)\n\n\u001b[0;31mNameError\u001b[0m: name 'dfutils' is not defined",
       "errorSummary": "<span class='ansi-red-fg'>NameError</span>: name 'dfutils' is not defined",
       "errorTraceType": "ansi",
       "metadata": {},
       "type": "ipynbError"
      }
     },
     "output_type": "display_data"
    }
   ],
   "source": [
    "name"
   ]
  },
  {
   "cell_type": "code",
   "execution_count": 0,
   "metadata": {
    "application/vnd.databricks.v1+cell": {
     "cellMetadata": {
      "byteLimit": 2048000,
      "rowLimit": 10000
     },
     "inputWidgets": {},
     "nuid": "926e9e04-d97d-4588-a6ba-c14e47853c9e",
     "showTitle": false,
     "title": ""
    }
   },
   "outputs": [
    {
     "name": "stdout",
     "output_type": "stream",
     "text": [
      "Out[11]: [FileInfo(path='dbfs:/FileStore/tables/csv_write/_SUCCESS', name='_SUCCESS', size=0, modificationTime=1722318323000),\n",
      " FileInfo(path='dbfs:/FileStore/tables/csv_write/_committed_3699834740527265319', name='_committed_3699834740527265319', size=112, modificationTime=1722318323000),\n",
      " FileInfo(path='dbfs:/FileStore/tables/csv_write/_started_3699834740527265319', name='_started_3699834740527265319', size=0, modificationTime=1722318322000),\n",
      " FileInfo(path='dbfs:/FileStore/tables/csv_write/part-00000-tid-3699834740527265319-18a5a776-16a5-4f8f-9d19-3854e3154a28-31-1-c000.csv', name='part-00000-tid-3699834740527265319-18a5a776-16a5-4f8f-9d19-3854e3154a28-31-1-c000.csv', size=490, modificationTime=1722318323000)]"
     ]
    }
   ],
   "source": [
    "dbutils.fs.ls('/FileStore/tables/csv_write/')"
   ]
  },
  {
   "cell_type": "code",
   "execution_count": 0,
   "metadata": {
    "application/vnd.databricks.v1+cell": {
     "cellMetadata": {
      "byteLimit": 2048000,
      "rowLimit": 10000
     },
     "inputWidgets": {},
     "nuid": "bdcedb8a-48ce-4454-a15a-2e62ac7dadbc",
     "showTitle": false,
     "title": ""
    }
   },
   "outputs": [
    {
     "data": {
      "text/html": [
       "<style scoped>\n",
       "  .table-result-container {\n",
       "    max-height: 300px;\n",
       "    overflow: auto;\n",
       "  }\n",
       "  table, th, td {\n",
       "    border: 1px solid black;\n",
       "    border-collapse: collapse;\n",
       "  }\n",
       "  th, td {\n",
       "    padding: 5px;\n",
       "  }\n",
       "  th {\n",
       "    text-align: left;\n",
       "  }\n",
       "</style><div class='table-result-container'><table class='table-result'><thead style='background-color: white'><tr><th>path</th><th>name</th><th>size</th><th>modificationTime</th></tr></thead><tbody><tr><td>dbfs:/FileStore/tables/csv_write/_SUCCESS</td><td>_SUCCESS</td><td>0</td><td>1722318323000</td></tr><tr><td>dbfs:/FileStore/tables/csv_write/_committed_3699834740527265319</td><td>_committed_3699834740527265319</td><td>112</td><td>1722318323000</td></tr><tr><td>dbfs:/FileStore/tables/csv_write/_started_3699834740527265319</td><td>_started_3699834740527265319</td><td>0</td><td>1722318322000</td></tr><tr><td>dbfs:/FileStore/tables/csv_write/part-00000-tid-3699834740527265319-18a5a776-16a5-4f8f-9d19-3854e3154a28-31-1-c000.csv</td><td>part-00000-tid-3699834740527265319-18a5a776-16a5-4f8f-9d19-3854e3154a28-31-1-c000.csv</td><td>490</td><td>1722318323000</td></tr></tbody></table></div>"
      ]
     },
     "metadata": {
      "application/vnd.databricks.v1+output": {
       "addedWidgets": {},
       "aggData": [],
       "aggError": "",
       "aggOverflow": false,
       "aggSchema": [],
       "aggSeriesLimitReached": false,
       "aggType": "",
       "arguments": {},
       "columnCustomDisplayInfos": {},
       "data": [
        [
         "dbfs:/FileStore/tables/csv_write/_SUCCESS",
         "_SUCCESS",
         0,
         1722318323000
        ],
        [
         "dbfs:/FileStore/tables/csv_write/_committed_3699834740527265319",
         "_committed_3699834740527265319",
         112,
         1722318323000
        ],
        [
         "dbfs:/FileStore/tables/csv_write/_started_3699834740527265319",
         "_started_3699834740527265319",
         0,
         1722318322000
        ],
        [
         "dbfs:/FileStore/tables/csv_write/part-00000-tid-3699834740527265319-18a5a776-16a5-4f8f-9d19-3854e3154a28-31-1-c000.csv",
         "part-00000-tid-3699834740527265319-18a5a776-16a5-4f8f-9d19-3854e3154a28-31-1-c000.csv",
         490,
         1722318323000
        ]
       ],
       "datasetInfos": [],
       "dbfsResultPath": null,
       "isJsonSchema": true,
       "metadata": {},
       "overflow": false,
       "plotOptions": {
        "customPlotOptions": {},
        "displayType": "table",
        "pivotAggregation": null,
        "pivotColumns": null,
        "xColumns": null,
        "yColumns": null
       },
       "removedWidgets": [],
       "schema": [
        {
         "metadata": "{}",
         "name": "path",
         "type": "\"string\""
        },
        {
         "metadata": "{}",
         "name": "name",
         "type": "\"string\""
        },
        {
         "metadata": "{}",
         "name": "size",
         "type": "\"long\""
        },
        {
         "metadata": "{}",
         "name": "modificationTime",
         "type": "\"long\""
        }
       ],
       "type": "table"
      }
     },
     "output_type": "display_data"
    }
   ],
   "source": [
    "display(dbutils.fs.ls('/FileStore/tables/csv_write/'))"
   ]
  },
  {
   "cell_type": "code",
   "execution_count": 0,
   "metadata": {
    "application/vnd.databricks.v1+cell": {
     "cellMetadata": {
      "byteLimit": 2048000,
      "rowLimit": 10000
     },
     "inputWidgets": {},
     "nuid": "1d9b1d53-5be8-44ef-bf14-104ce7422c04",
     "showTitle": false,
     "title": ""
    }
   },
   "outputs": [],
   "source": [
    "\n",
    "df.repartition(3).write.format('csv')\\\n",
    "    .option('header','true')\\\n",
    "    .option('mode','overwrite')\\\n",
    "    .option('path','/FileStore/tables/csv_write_repartition/')\\\n",
    "    .save()\n",
    "\n"
   ]
  },
  {
   "cell_type": "code",
   "execution_count": 0,
   "metadata": {
    "application/vnd.databricks.v1+cell": {
     "cellMetadata": {
      "byteLimit": 2048000,
      "rowLimit": 10000
     },
     "inputWidgets": {},
     "nuid": "d78a9467-fe45-456a-a284-fd9a37f23166",
     "showTitle": false,
     "title": ""
    }
   },
   "outputs": [
    {
     "name": "stdout",
     "output_type": "stream",
     "text": [
      "Out[15]: [FileInfo(path='dbfs:/FileStore/tables/csv_write_repartition/_SUCCESS', name='_SUCCESS', size=0, modificationTime=1722318921000),\n",
      " FileInfo(path='dbfs:/FileStore/tables/csv_write_repartition/_committed_6340820870063447464', name='_committed_6340820870063447464', size=288, modificationTime=1722318920000),\n",
      " FileInfo(path='dbfs:/FileStore/tables/csv_write_repartition/_started_6340820870063447464', name='_started_6340820870063447464', size=0, modificationTime=1722318920000),\n",
      " FileInfo(path='dbfs:/FileStore/tables/csv_write_repartition/part-00000-tid-6340820870063447464-1bc415d8-a2c5-469a-a3fc-db567244406e-41-1-c000.csv', name='part-00000-tid-6340820870063447464-1bc415d8-a2c5-469a-a3fc-db567244406e-41-1-c000.csv', size=184, modificationTime=1722318920000),\n",
      " FileInfo(path='dbfs:/FileStore/tables/csv_write_repartition/part-00001-tid-6340820870063447464-1bc415d8-a2c5-469a-a3fc-db567244406e-42-1-c000.csv', name='part-00001-tid-6340820870063447464-1bc415d8-a2c5-469a-a3fc-db567244406e-42-1-c000.csv', size=184, modificationTime=1722318920000),\n",
      " FileInfo(path='dbfs:/FileStore/tables/csv_write_repartition/part-00002-tid-6340820870063447464-1bc415d8-a2c5-469a-a3fc-db567244406e-43-1-c000.csv', name='part-00002-tid-6340820870063447464-1bc415d8-a2c5-469a-a3fc-db567244406e-43-1-c000.csv', size=190, modificationTime=1722318920000)]"
     ]
    }
   ],
   "source": [
    "dbutils.fs.ls('/FileStore/tables/csv_write_repartition/')\n"
   ]
  },
  {
   "cell_type": "code",
   "execution_count": 0,
   "metadata": {
    "application/vnd.databricks.v1+cell": {
     "cellMetadata": {
      "byteLimit": 2048000,
      "rowLimit": 10000
     },
     "inputWidgets": {},
     "nuid": "9e28874a-25c4-4ee9-b59f-c433133d0d6d",
     "showTitle": false,
     "title": ""
    }
   },
   "outputs": [
    {
     "data": {
      "text/html": [
       "<style scoped>\n",
       "  .table-result-container {\n",
       "    max-height: 300px;\n",
       "    overflow: auto;\n",
       "  }\n",
       "  table, th, td {\n",
       "    border: 1px solid black;\n",
       "    border-collapse: collapse;\n",
       "  }\n",
       "  th, td {\n",
       "    padding: 5px;\n",
       "  }\n",
       "  th {\n",
       "    text-align: left;\n",
       "  }\n",
       "</style><div class='table-result-container'><table class='table-result'><thead style='background-color: white'><tr><th>path</th><th>name</th><th>size</th><th>modificationTime</th></tr></thead><tbody><tr><td>dbfs:/FileStore/tables/csv_write_repartition/_SUCCESS</td><td>_SUCCESS</td><td>0</td><td>1722318921000</td></tr><tr><td>dbfs:/FileStore/tables/csv_write_repartition/_committed_6340820870063447464</td><td>_committed_6340820870063447464</td><td>288</td><td>1722318920000</td></tr><tr><td>dbfs:/FileStore/tables/csv_write_repartition/_started_6340820870063447464</td><td>_started_6340820870063447464</td><td>0</td><td>1722318920000</td></tr><tr><td>dbfs:/FileStore/tables/csv_write_repartition/part-00000-tid-6340820870063447464-1bc415d8-a2c5-469a-a3fc-db567244406e-41-1-c000.csv</td><td>part-00000-tid-6340820870063447464-1bc415d8-a2c5-469a-a3fc-db567244406e-41-1-c000.csv</td><td>184</td><td>1722318920000</td></tr><tr><td>dbfs:/FileStore/tables/csv_write_repartition/part-00001-tid-6340820870063447464-1bc415d8-a2c5-469a-a3fc-db567244406e-42-1-c000.csv</td><td>part-00001-tid-6340820870063447464-1bc415d8-a2c5-469a-a3fc-db567244406e-42-1-c000.csv</td><td>184</td><td>1722318920000</td></tr><tr><td>dbfs:/FileStore/tables/csv_write_repartition/part-00002-tid-6340820870063447464-1bc415d8-a2c5-469a-a3fc-db567244406e-43-1-c000.csv</td><td>part-00002-tid-6340820870063447464-1bc415d8-a2c5-469a-a3fc-db567244406e-43-1-c000.csv</td><td>190</td><td>1722318920000</td></tr></tbody></table></div>"
      ]
     },
     "metadata": {
      "application/vnd.databricks.v1+output": {
       "addedWidgets": {},
       "aggData": [],
       "aggError": "",
       "aggOverflow": false,
       "aggSchema": [],
       "aggSeriesLimitReached": false,
       "aggType": "",
       "arguments": {},
       "columnCustomDisplayInfos": {},
       "data": [
        [
         "dbfs:/FileStore/tables/csv_write_repartition/_SUCCESS",
         "_SUCCESS",
         0,
         1722318921000
        ],
        [
         "dbfs:/FileStore/tables/csv_write_repartition/_committed_6340820870063447464",
         "_committed_6340820870063447464",
         288,
         1722318920000
        ],
        [
         "dbfs:/FileStore/tables/csv_write_repartition/_started_6340820870063447464",
         "_started_6340820870063447464",
         0,
         1722318920000
        ],
        [
         "dbfs:/FileStore/tables/csv_write_repartition/part-00000-tid-6340820870063447464-1bc415d8-a2c5-469a-a3fc-db567244406e-41-1-c000.csv",
         "part-00000-tid-6340820870063447464-1bc415d8-a2c5-469a-a3fc-db567244406e-41-1-c000.csv",
         184,
         1722318920000
        ],
        [
         "dbfs:/FileStore/tables/csv_write_repartition/part-00001-tid-6340820870063447464-1bc415d8-a2c5-469a-a3fc-db567244406e-42-1-c000.csv",
         "part-00001-tid-6340820870063447464-1bc415d8-a2c5-469a-a3fc-db567244406e-42-1-c000.csv",
         184,
         1722318920000
        ],
        [
         "dbfs:/FileStore/tables/csv_write_repartition/part-00002-tid-6340820870063447464-1bc415d8-a2c5-469a-a3fc-db567244406e-43-1-c000.csv",
         "part-00002-tid-6340820870063447464-1bc415d8-a2c5-469a-a3fc-db567244406e-43-1-c000.csv",
         190,
         1722318920000
        ]
       ],
       "datasetInfos": [],
       "dbfsResultPath": null,
       "isJsonSchema": true,
       "metadata": {},
       "overflow": false,
       "plotOptions": {
        "customPlotOptions": {},
        "displayType": "table",
        "pivotAggregation": null,
        "pivotColumns": null,
        "xColumns": null,
        "yColumns": null
       },
       "removedWidgets": [],
       "schema": [
        {
         "metadata": "{}",
         "name": "path",
         "type": "\"string\""
        },
        {
         "metadata": "{}",
         "name": "name",
         "type": "\"string\""
        },
        {
         "metadata": "{}",
         "name": "size",
         "type": "\"long\""
        },
        {
         "metadata": "{}",
         "name": "modificationTime",
         "type": "\"long\""
        }
       ],
       "type": "table"
      }
     },
     "output_type": "display_data"
    }
   ],
   "source": [
    "display(dbutils.fs.ls('/FileStore/tables/csv_write_repartition/')\n",
    ")"
   ]
  },
  {
   "cell_type": "code",
   "execution_count": 0,
   "metadata": {
    "application/vnd.databricks.v1+cell": {
     "cellMetadata": {},
     "inputWidgets": {},
     "nuid": "c98d9756-3056-4347-b91b-abb7996b673b",
     "showTitle": false,
     "title": ""
    }
   },
   "outputs": [],
   "source": []
  },
  {
   "cell_type": "code",
   "execution_count": 0,
   "metadata": {
    "application/vnd.databricks.v1+cell": {
     "cellMetadata": {},
     "inputWidgets": {},
     "nuid": "95b0cd3a-a5a4-43b6-bd46-05d78a4e525d",
     "showTitle": false,
     "title": ""
    }
   },
   "outputs": [],
   "source": [
    "### we can use below code for succdessfull rewriting operation on data in same folder\n",
    "### .mode(\"overwrite\")\\  # Using .mode() instead of .option() for overwrite mode\n",
    "\n",
    "\n",
    "\n",
    "\n",
    "#    write_df = read_df.repartition(3).write.format(\"csv\")\\\n",
    "#     .option(\"header\", \"True\")\\\n",
    "#     .mode(\"overwrite\")\\  # Using .mode() instead of .option() for overwrite mode\n",
    "#     .option(\"path\", \"/FileStore/tables/Write_Data/\")\\\n",
    "#     .save()"
   ]
  },
  {
   "cell_type": "code",
   "execution_count": 0,
   "metadata": {
    "application/vnd.databricks.v1+cell": {
     "cellMetadata": {},
     "inputWidgets": {},
     "nuid": "065ef2bb-4ba8-4af6-b7bb-95c06c3aa242",
     "showTitle": false,
     "title": ""
    }
   },
   "outputs": [],
   "source": []
  }
 ],
 "metadata": {
  "application/vnd.databricks.v1+notebook": {
   "dashboards": [],
   "environmentMetadata": null,
   "language": "python",
   "notebookMetadata": {
    "pythonIndentUnit": 4
   },
   "notebookName": "8_write_dataframe_to_disk",
   "widgets": {}
  },
  "kernelspec": {
   "display_name": "Python 3 (ipykernel)",
   "language": "python",
   "name": "python3"
  },
  "language_info": {
   "codemirror_mode": {
    "name": "ipython",
    "version": 3
   },
   "file_extension": ".py",
   "mimetype": "text/x-python",
   "name": "python",
   "nbconvert_exporter": "python",
   "pygments_lexer": "ipython3",
   "version": "3.9.13"
  }
 },
 "nbformat": 4,
 "nbformat_minor": 1
}
