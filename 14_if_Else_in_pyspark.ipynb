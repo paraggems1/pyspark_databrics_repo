{
 "cells": [
  {
   "cell_type": "code",
   "execution_count": 0,
   "metadata": {
    "application/vnd.databricks.v1+cell": {
     "cellMetadata": {
      "byteLimit": 2048000,
      "rowLimit": 10000
     },
     "inputWidgets": {},
     "nuid": "d6f00e00-769b-4e50-aebd-62ae5b4005f8",
     "showTitle": false,
     "title": ""
    }
   },
   "outputs": [
    {
     "data": {
      "text/html": [
       "\n",
       "            <div>\n",
       "                <p><b>SparkSession - hive</b></p>\n",
       "                \n",
       "        <div>\n",
       "            <p><b>SparkContext</b></p>\n",
       "\n",
       "            <p><a href=\"/?o=2603575592592943#setting/sparkui/0808-234725-ph5gu982/driver-6385730813709176143\">Spark UI</a></p>\n",
       "\n",
       "            <dl>\n",
       "              <dt>Version</dt>\n",
       "                <dd><code>v3.3.2</code></dd>\n",
       "              <dt>Master</dt>\n",
       "                <dd><code>local[8]</code></dd>\n",
       "              <dt>AppName</dt>\n",
       "                <dd><code>Databricks Shell</code></dd>\n",
       "            </dl>\n",
       "        </div>\n",
       "        \n",
       "            </div>\n",
       "        "
      ]
     },
     "metadata": {
      "application/vnd.databricks.v1+output": {
       "addedWidgets": {},
       "arguments": {},
       "data": "\n            <div>\n                <p><b>SparkSession - hive</b></p>\n                \n        <div>\n            <p><b>SparkContext</b></p>\n\n            <p><a href=\"/?o=2603575592592943#setting/sparkui/0808-234725-ph5gu982/driver-6385730813709176143\">Spark UI</a></p>\n\n            <dl>\n              <dt>Version</dt>\n                <dd><code>v3.3.2</code></dd>\n              <dt>Master</dt>\n                <dd><code>local[8]</code></dd>\n              <dt>AppName</dt>\n                <dd><code>Databricks Shell</code></dd>\n            </dl>\n        </div>\n        \n            </div>\n        ",
       "datasetInfos": [],
       "metadata": {},
       "removedWidgets": [],
       "textData": null,
       "type": "htmlSandbox"
      }
     },
     "output_type": "display_data"
    }
   ],
   "source": [
    "spark"
   ]
  },
  {
   "cell_type": "code",
   "execution_count": 0,
   "metadata": {
    "application/vnd.databricks.v1+cell": {
     "cellMetadata": {
      "byteLimit": 2048000,
      "rowLimit": 10000
     },
     "inputWidgets": {},
     "nuid": "6bb827ab-03d0-48a0-b7de-081b2d77fdf9",
     "showTitle": false,
     "title": ""
    }
   },
   "outputs": [
    {
     "name": "stdout",
     "output_type": "stream",
     "text": [
      "+----+-------+----+------+-------+-----------+\n",
      "|  id|   name| age|salary|country|       dept|\n",
      "+----+-------+----+------+-------+-----------+\n",
      "|   1| manish|  26| 20000|  india|         IT|\n",
      "|   2|  rahul|null| 40000|germany|engineering|\n",
      "|   3|  pawan|  12| 60000|  india|      sales|\n",
      "|   4|roshini|  44|  null|     uk|engineering|\n",
      "|   5|raushan|  35| 70000|  india|      sales|\n",
      "|   6|   null|  29|200000|     uk|         IT|\n",
      "|   7|   adam|  37| 65000|     us|         IT|\n",
      "|   8|  chris|  16| 40000|     us|      sales|\n",
      "|null|   null|null|  null|   null|       null|\n",
      "|   7|   adam|  37| 65000|     us|         IT|\n",
      "+----+-------+----+------+-------+-----------+\n",
      "\n"
     ]
    }
   ],
   "source": [
    "emp_data = [\n",
    "(1,'manish',26,20000,'india','IT'),\n",
    "(2,'rahul',None,40000,'germany','engineering'),\n",
    "(3,'pawan',12,60000,'india','sales'),\n",
    "(4,'roshini',44,None,'uk','engineering'),\n",
    "(5,'raushan',35,70000,'india','sales'),\n",
    "(6,None,29,200000,'uk','IT'),\n",
    "(7,'adam',37,65000,'us','IT'),\n",
    "(8,'chris',16,40000,'us','sales'),\n",
    "(None,None,None,None,None,None),\n",
    "(7,'adam',37,65000,'us','IT')\n",
    "]\n",
    "\n",
    "\n",
    "\n",
    "\n",
    "\n",
    "schema = [\"id\",\"name\",\"age\",\"salary\",\"country\",\"dept\"]\n",
    "\n",
    "\n",
    "\n",
    "# Create DataFrame \n",
    "emp_df = spark.createDataFrame(data=emp_data, schema=schema)\n",
    "\n",
    "\n",
    "emp_df.show()"
   ]
  },
  {
   "cell_type": "code",
   "execution_count": 0,
   "metadata": {
    "application/vnd.databricks.v1+cell": {
     "cellMetadata": {
      "byteLimit": 2048000,
      "rowLimit": 10000
     },
     "inputWidgets": {},
     "nuid": "b656a7cb-e5f9-4e5d-9705-a42df7a34494",
     "showTitle": false,
     "title": ""
    }
   },
   "outputs": [],
   "source": [
    "from pyspark.sql.functions import *\n",
    "from pyspark.sql.types import *\n",
    "\n"
   ]
  },
  {
   "cell_type": "code",
   "execution_count": 0,
   "metadata": {
    "application/vnd.databricks.v1+cell": {
     "cellMetadata": {
      "byteLimit": 2048000,
      "rowLimit": 10000
     },
     "inputWidgets": {},
     "nuid": "1db0af0e-27cd-4f51-b3af-c8caf4a5752e",
     "showTitle": false,
     "title": ""
    }
   },
   "outputs": [
    {
     "name": "stdout",
     "output_type": "stream",
     "text": [
      "+----+-------+----+------+-------+-----------+-------+\n",
      "|  id|   name| age|salary|country|       dept|  adult|\n",
      "+----+-------+----+------+-------+-----------+-------+\n",
      "|   1| manish|  26| 20000|  india|         IT|    Yes|\n",
      "|   2|  rahul|null| 40000|germany|engineering|Novalue|\n",
      "|   3|  pawan|  12| 60000|  india|      sales|     No|\n",
      "|   4|roshini|  44|  null|     uk|engineering|    Yes|\n",
      "|   5|raushan|  35| 70000|  india|      sales|    Yes|\n",
      "|   6|   null|  29|200000|     uk|         IT|    Yes|\n",
      "|   7|   adam|  37| 65000|     us|         IT|    Yes|\n",
      "|   8|  chris|  16| 40000|     us|      sales|     No|\n",
      "|null|   null|null|  null|   null|       null|Novalue|\n",
      "|   7|   adam|  37| 65000|     us|         IT|    Yes|\n",
      "+----+-------+----+------+-------+-----------+-------+\n",
      "\n"
     ]
    }
   ],
   "source": [
    "\n",
    "emp_df.withColumn(\"adult\",when(col('age')<18,\"No\")\n",
    ".when(col(\"age\")>18,\"Yes\")\n",
    ".otherwise(\"Novalue\")).show()\n"
   ]
  },
  {
   "cell_type": "code",
   "execution_count": 0,
   "metadata": {
    "application/vnd.databricks.v1+cell": {
     "cellMetadata": {
      "byteLimit": 2048000,
      "rowLimit": 10000
     },
     "inputWidgets": {},
     "nuid": "dbb53e12-cb9e-4b48-8d8f-05f0a9dc78fa",
     "showTitle": false,
     "title": ""
    }
   },
   "outputs": [
    {
     "name": "stdout",
     "output_type": "stream",
     "text": [
      "+----+-------+---+------+-------+-----------+-----+\n",
      "|  id|   name|age|salary|country|       dept|adult|\n",
      "+----+-------+---+------+-------+-----------+-----+\n",
      "|   1| manish| 26| 20000|  india|         IT|  Yes|\n",
      "|   2|  rahul| 19| 40000|germany|engineering|  Yes|\n",
      "|   3|  pawan| 12| 60000|  india|      sales|   No|\n",
      "|   4|roshini| 44|  null|     uk|engineering|  Yes|\n",
      "|   5|raushan| 35| 70000|  india|      sales|  Yes|\n",
      "|   6|   null| 29|200000|     uk|         IT|  Yes|\n",
      "|   7|   adam| 37| 65000|     us|         IT|  Yes|\n",
      "|   8|  chris| 16| 40000|     us|      sales|   No|\n",
      "|null|   null| 19|  null|   null|       null|  Yes|\n",
      "|   7|   adam| 37| 65000|     us|         IT|  Yes|\n",
      "+----+-------+---+------+-------+-----------+-----+\n",
      "\n"
     ]
    }
   ],
   "source": [
    "emp_df.withColumn(\"age\",when(col('age').isNull(),lit(19))\\\n",
    "    .otherwise(col(\"age\")))\\\n",
    "    .withColumn(\"adult\",when(col(\"age\")>=18,\"Yes\")\\\n",
    "        .otherwise('No')).show()\n"
   ]
  },
  {
   "cell_type": "code",
   "execution_count": 0,
   "metadata": {
    "application/vnd.databricks.v1+cell": {
     "cellMetadata": {
      "byteLimit": 2048000,
      "rowLimit": 10000
     },
     "inputWidgets": {},
     "nuid": "1c793e5c-03db-452c-a5ee-a9f37c200af5",
     "showTitle": false,
     "title": ""
    }
   },
   "outputs": [],
   "source": [
    "emp_df.createOrReplaceTempView(\"table\")"
   ]
  },
  {
   "cell_type": "code",
   "execution_count": 0,
   "metadata": {
    "application/vnd.databricks.v1+cell": {
     "cellMetadata": {
      "byteLimit": 2048000,
      "rowLimit": 10000
     },
     "inputWidgets": {},
     "nuid": "e9634c7e-3312-4d66-b575-1ce0720d2cc9",
     "showTitle": false,
     "title": ""
    }
   },
   "outputs": [
    {
     "name": "stdout",
     "output_type": "stream",
     "text": [
      "+----+-------+----+------+-------+-----------+-------+\n",
      "|  id|   name| age|salary|country|       dept|  adult|\n",
      "+----+-------+----+------+-------+-----------+-------+\n",
      "|   1| manish|  26| 20000|  india|         IT|  major|\n",
      "|   2|  rahul|null| 40000|germany|engineering|novalue|\n",
      "|   3|  pawan|  12| 60000|  india|      sales|  minor|\n",
      "|   4|roshini|  44|  null|     uk|engineering|  major|\n",
      "|   5|raushan|  35| 70000|  india|      sales|  major|\n",
      "|   6|   null|  29|200000|     uk|         IT|  major|\n",
      "|   7|   adam|  37| 65000|     us|         IT|  major|\n",
      "|   8|  chris|  16| 40000|     us|      sales|  minor|\n",
      "|null|   null|null|  null|   null|       null|novalue|\n",
      "|   7|   adam|  37| 65000|     us|         IT|  major|\n",
      "+----+-------+----+------+-------+-----------+-------+\n",
      "\n"
     ]
    }
   ],
   "source": [
    "spark.sql(\"\"\"\n",
    "          select *,\n",
    "          case when age<18 then 'minor'\n",
    "          when age > 18 then 'major'\n",
    "          else 'novalue'\n",
    "          end as adult\n",
    "          from table\n",
    "          \"\"\").show()"
   ]
  },
  {
   "cell_type": "code",
   "execution_count": 0,
   "metadata": {
    "application/vnd.databricks.v1+cell": {
     "cellMetadata": {},
     "inputWidgets": {},
     "nuid": "07759618-1a50-4e36-b6c5-c78c5978766d",
     "showTitle": false,
     "title": ""
    }
   },
   "outputs": [],
   "source": []
  },
  {
   "cell_type": "code",
   "execution_count": 0,
   "metadata": {
    "application/vnd.databricks.v1+cell": {
     "cellMetadata": {},
     "inputWidgets": {},
     "nuid": "6fb21bdf-6fe3-4119-a965-ce80c33d1c9d",
     "showTitle": false,
     "title": ""
    }
   },
   "outputs": [],
   "source": []
  }
 ],
 "metadata": {
  "application/vnd.databricks.v1+notebook": {
   "dashboards": [],
   "environmentMetadata": null,
   "language": "python",
   "notebookMetadata": {
    "pythonIndentUnit": 4
   },
   "notebookName": "14_if_Else_in_pyspark",
   "widgets": {}
  },
  "kernelspec": {
   "display_name": "Python 3 (ipykernel)",
   "language": "python",
   "name": "python3"
  },
  "language_info": {
   "codemirror_mode": {
    "name": "ipython",
    "version": 3
   },
   "file_extension": ".py",
   "mimetype": "text/x-python",
   "name": "python",
   "nbconvert_exporter": "python",
   "pygments_lexer": "ipython3",
   "version": "3.9.13"
  }
 },
 "nbformat": 4,
 "nbformat_minor": 1
}
